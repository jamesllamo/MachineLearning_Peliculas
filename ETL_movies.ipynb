{
 "cells": [
  {
   "attachments": {},
   "cell_type": "markdown",
   "metadata": {},
   "source": [
    "# <h1 align=center>**ETL DE PELÍCULAS Y USUARIOS**</h1>"
   ]
  },
  {
   "attachments": {},
   "cell_type": "markdown",
   "metadata": {},
   "source": [
    "----------------------------------------------------------------------------------------------------------------------------------------"
   ]
  },
  {
   "attachments": {},
   "cell_type": "markdown",
   "metadata": {},
   "source": [
    "***I. DATOS DE PELÍCULAS***"
   ]
  },
  {
   "attachments": {},
   "cell_type": "markdown",
   "metadata": {},
   "source": [
    "1. EXTRACCCIÓN"
   ]
  },
  {
   "cell_type": "code",
   "execution_count": 2,
   "metadata": {},
   "outputs": [],
   "source": [
    "#Instalamos las Librerías de arranque\n",
    "import pandas as pd     #Pandas para manejo de Dataframes\n",
    "import datetime         #datetime para manejo de formatos fecha\n"
   ]
  },
  {
   "cell_type": "code",
   "execution_count": 3,
   "metadata": {},
   "outputs": [],
   "source": [
    "# Importamos archivos csv de Títulos de películas divididos por plataforma\n",
    "amazon = pd.read_csv('Datasets/amazon_prime_titles.csv')    #Cargamos la data de amazon con pandas\n",
    "disney = pd.read_csv('Datasets/disney_plus_titles.csv')     #Cargamos la data de disney con pandas\n",
    "hulu = pd.read_csv('Datasets/hulu_titles.csv')              #Cargamos la data de hulu con pandas\n",
    "netflix = pd.read_csv('Datasets/netflix_titles.csv')        #Cargamos la data de netflix con pandas"
   ]
  },
  {
   "attachments": {},
   "cell_type": "markdown",
   "metadata": {},
   "source": [
    "2. TRANSFORMACIÓN"
   ]
  },
  {
   "cell_type": "code",
   "execution_count": 4,
   "metadata": {},
   "outputs": [],
   "source": [
    "#Generar nuevo campo id (la primera letra del nombre de la plataforma, seguido del show_id)\n",
    "amazon['id'] ='a'+ amazon['show_id'].astype(str)        #Concatenamos la letra incial 'a' de la plataforma y el 'show_id'\n",
    "disney['id'] ='d'+ disney['show_id'].astype(str)        #Concatenamos la letra incial 'd' de la plataforma y el 'show_id'\n",
    "hulu['id'] ='h'+ hulu['show_id'].astype(str)            #Concatenamos la letra incial 'h' de la plataforma y el 'show_id'\n",
    "netflix['id'] ='n'+ netflix['show_id'].astype(str)      #Concatenamos la letra incial 'n' de la plataforma y el 'show_id'"
   ]
  },
  {
   "cell_type": "code",
   "execution_count": 5,
   "metadata": {},
   "outputs": [],
   "source": [
    "#Concatenamos los dataframes de películas\n",
    "plataformas = pd.concat([amazon, disney, hulu, netflix])    #Concatenamos la información de las diferentes plataformas para convertirlas en un solo dataframe"
   ]
  },
  {
   "cell_type": "code",
   "execution_count": 6,
   "metadata": {},
   "outputs": [
    {
     "data": {
      "text/plain": [
       "0"
      ]
     },
     "execution_count": 6,
     "metadata": {},
     "output_type": "execute_result"
    }
   ],
   "source": [
    "#Revisamos que no exista valores duplicados\n",
    "duplicados_concatenación=plataformas[plataformas.duplicated()]  #Extraemos los duplicados en el dataframe duplicados_concatenación\n",
    "duplicados_concatenación.value_counts().sum()                   #Contamos los duplicados"
   ]
  },
  {
   "cell_type": "code",
   "execution_count": 7,
   "metadata": {},
   "outputs": [],
   "source": [
    "#Reemplazamos valores Columna 'rating' en el dataframe Amazon\n",
    "plataformas['rating'].fillna('G', inplace=True)     #Reemplazamos con un string 'G' los valores Nulos de la Columna 'rating' en el dataframe Amazon"
   ]
  },
  {
   "cell_type": "code",
   "execution_count": 8,
   "metadata": {},
   "outputs": [],
   "source": [
    "#Cambio de formato a las columna de fecha\n",
    "plataformas['date_added'] = plataformas['date_added'].str.strip()                                                   #removemos la sangría de la columna 'date_added'\n",
    "plataformas['date_added'] = pd.to_datetime(plataformas['date_added'], format='%B %d, %Y').dt.strftime('%Y-%m-%d')   #Cambiamos el formato de la columna 'date_added' a '%Y-%m-%d'"
   ]
  },
  {
   "cell_type": "code",
   "execution_count": 9,
   "metadata": {},
   "outputs": [],
   "source": [
    "#Cambiamos los campos de texto a minúsculas, sin excepciones\n",
    "plataformas['show_id'] = plataformas['show_id'].str.lower()         #Cambiamos a minúsculas la columna 'show_id'\n",
    "plataformas['type'] = plataformas['type'].str.lower()               #Cambiamos a minúsculas la columna 'type'\n",
    "plataformas['title'] = plataformas['title'].str.lower()             #Cambiamos a minúsculas la columna 'title'\n",
    "plataformas['director'] = plataformas['director'].str.lower()       #Cambiamos a minúsculas la columna 'director'\n",
    "plataformas['cast'] = plataformas['cast'].str.lower()               #Cambiamos a minúsculas la columna 'cast'\n",
    "plataformas['country'] = plataformas['country'].str.lower()         #Cambiamos a minúsculas la columna 'country'\n",
    "plataformas['rating'] = plataformas['rating'].str.lower()           #Cambiamos a minúsculas la columna 'rating'\n",
    "plataformas['duration'] = plataformas['duration'].str.lower()       #Cambiamos a minúsculas la columna 'duration'\n",
    "plataformas['listed_in'] = plataformas['listed_in'].str.lower()     #Cambiamos a minúsculas la columna 'listed_in'\n",
    "plataformas['description'] = plataformas['description'].str.lower() #Cambiamos a minúsculas la columna 'description'\n",
    "plataformas['id'] = plataformas['id'].str.lower()                   #Cambiamos a minúsculas la columna 'id'"
   ]
  },
  {
   "cell_type": "code",
   "execution_count": 10,
   "metadata": {},
   "outputs": [],
   "source": [
    "#Separamos la columna 'duration' en 'duration_int' y 'duration_type'\n",
    "plataformas['duration_int'] = plataformas['duration'].str.extract('(\\d+)')          #Construimos la columna 'duration_int' con el segmento entero\n",
    "plataformas['duration_type'] = plataformas['duration'].str.extract('([A-Za-z]+)')   #Construimos la columna 'duration_int' con el segmento string"
   ]
  },
  {
   "cell_type": "code",
   "execution_count": 11,
   "metadata": {},
   "outputs": [],
   "source": [
    "#Convertimos la columna 'duration_int' en valores enteros\n",
    "plataformas['duration_int'] = plataformas['duration_int'].fillna(0)     #Reemplazamos los valores nulos por 0 en la columna 'duration_int'\n",
    "plataformas['duration_int'] = plataformas['duration_int'].astype(int)   #Cambiamos el tipo de dato de la columna 'duration_int' a entero"
   ]
  },
  {
   "cell_type": "code",
   "execution_count": 12,
   "metadata": {},
   "outputs": [],
   "source": [
    "#Convertimos la columna 'duration_type' en string\n",
    "plataformas['duration_type'] = plataformas['duration_type'].fillna(0)   #Reemplazamos los valores nulos por 0 en la columna 'duration_type'\n",
    "plataformas['duration_type'] = plataformas['duration_type'].astype(str) #Cambiamos el tipo de dato de la columna 'duration_type' a string"
   ]
  },
  {
   "cell_type": "code",
   "execution_count": 13,
   "metadata": {},
   "outputs": [],
   "source": [
    "#Reemplazamos la terminología en la columna 'duration_type'\n",
    "plataformas['duration_type'] = plataformas['duration_type'].replace('min', 'minutos')           #Reemplazamos el string 'min'por 'minutos'\n",
    "plataformas['duration_type'] = plataformas['duration_type'].replace('season', 'temporadas')     #Reemplazamos el string 'season' por 'temporadas'\n",
    "plataformas['duration_type'] = plataformas['duration_type'].replace('seasons', 'temporadas')    #Reemplazamos el string 'seasons'por 'temporadas'"
   ]
  },
  {
   "attachments": {},
   "cell_type": "markdown",
   "metadata": {},
   "source": [
    "***II. DATOS DE SCORE SEGÚN ID USUARIO***"
   ]
  },
  {
   "attachments": {},
   "cell_type": "markdown",
   "metadata": {},
   "source": [
    "1. EXTRACCIÓN"
   ]
  },
  {
   "cell_type": "code",
   "execution_count": 14,
   "metadata": {},
   "outputs": [],
   "source": [
    "# Importamos archivos csv de los Ratings de películas por usuario\n",
    "r1 = pd.read_csv('MLOpsReviews/ratings/1.csv')      #Importamos la primera hoja de Ratings 1\n",
    "r2 = pd.read_csv('MLOpsReviews/ratings/2.csv')      #Importamos la primera hoja de Ratings 2\n",
    "r3 = pd.read_csv('MLOpsReviews/ratings/3.csv')      #Importamos la primera hoja de Ratings 3\n",
    "r4 = pd.read_csv('MLOpsReviews/ratings/4.csv')      #Importamos la primera hoja de Ratings 4\n",
    "r5 = pd.read_csv('MLOpsReviews/ratings/5.csv')      #Importamos la primera hoja de Ratings 5\n",
    "r6 = pd.read_csv('MLOpsReviews/ratings/6.csv')      #Importamos la primera hoja de Ratings 6\n",
    "r7 = pd.read_csv('MLOpsReviews/ratings/7.csv')      #Importamos la primera hoja de Ratings 7\n",
    "r8 = pd.read_csv('MLOpsReviews/ratings/8.csv')      #Importamos la primera hoja de Ratings 8"
   ]
  },
  {
   "attachments": {},
   "cell_type": "markdown",
   "metadata": {},
   "source": [
    "2. TRANSFORMACIÓN"
   ]
  },
  {
   "cell_type": "code",
   "execution_count": 38,
   "metadata": {},
   "outputs": [],
   "source": [
    "#Concatenamos la data\n",
    "rating = pd.concat([r1, r2, r3, r4,r5,r6,r7,r8])    #Concatenamos la información de las diferentes plataformas para convertirlas en un solo dataframe"
   ]
  },
  {
   "cell_type": "code",
   "execution_count": 16,
   "metadata": {},
   "outputs": [
    {
     "data": {
      "text/plain": [
       "124"
      ]
     },
     "execution_count": 16,
     "metadata": {},
     "output_type": "execute_result"
    }
   ],
   "source": [
    "#Revisamos que no exista valores duplicados\n",
    "#duplicados_concatenación_rating=rating[rating.duplicated()]  #Extraemos los duplicados en el dataframe duplicados_concatenación de rating\n",
    "#duplicados_concatenación_rating.value_counts().sum()         #Contamos los duplicados"
   ]
  },
  {
   "cell_type": "code",
   "execution_count": 39,
   "metadata": {},
   "outputs": [],
   "source": [
    "#Renombramos columnas\n",
    "rating.rename(columns={'rating': 'score'}, inplace=True)    # renombrar la columna 'rating' a 'score'\n",
    "rating.rename(columns={'movieId': 'id'}, inplace=True)  #renombrar la columna 'movieId' a 'id'"
   ]
  },
  {
   "cell_type": "code",
   "execution_count": 40,
   "metadata": {},
   "outputs": [],
   "source": [
    "#Cambiamos el formato de la columna 'datetime' a '%Y-%m-%d' y lo guardamos como 'date'\n",
    "rating['fecha'] = pd.to_datetime(rating['timestamp'], unit='s')             # Convertimos la columna a formato de fecha y hora\n",
    "rating['date'] = rating['fecha'].dt.strftime('%Y-%m-%d')                    # Formatear la columna en formato AAAA-MM-DD\n",
    "rating = rating.drop(['timestamp', 'fecha'], axis=1)                        # dropeamos la columna auxiliar y la original"
   ]
  },
  {
   "attachments": {},
   "cell_type": "markdown",
   "metadata": {},
   "source": [
    "***III. CARGA GLOBAL***"
   ]
  },
  {
   "attachments": {},
   "cell_type": "markdown",
   "metadata": {},
   "source": [
    "1. CARGA_ETL"
   ]
  },
  {
   "cell_type": "code",
   "execution_count": 41,
   "metadata": {},
   "outputs": [],
   "source": [
    "#Unimos el dataframe de plataformas y rating\n",
    "movies = pd.merge(plataformas, rating, on='id')     #Unimos la el dataframe plataformas y rating mediante la columna 'id'"
   ]
  },
  {
   "cell_type": "code",
   "execution_count": 22,
   "metadata": {},
   "outputs": [],
   "source": [
    "#Exportamos toda la información en .csv\n",
    "movies.to_csv('movies_ETL.csv')     #Exportamos la información en .csv"
   ]
  },
  {
   "attachments": {},
   "cell_type": "markdown",
   "metadata": {},
   "source": [
    "2. CARGA_API"
   ]
  },
  {
   "cell_type": "code",
   "execution_count": 55,
   "metadata": {},
   "outputs": [],
   "source": [
    "# Creamos una nueva columna 'promedio'\n",
    "rating_auxiliar=rating      # Generamos una copia del dataframe original para no alterar los datos\n",
    "rating_auxiliar['promedio'] = rating_auxiliar.groupby('id')['score'].transform('mean')  #Sacamos los promedio de la rating basado en la película\n",
    "rating_API = rating_auxiliar.drop_duplicates(subset='id')   #Eliminamos duplicados basado en la columna ID"
   ]
  },
  {
   "cell_type": "code",
   "execution_count": null,
   "metadata": {},
   "outputs": [],
   "source": [
    "#Unimos los dataframes: plataformas y rating_API\n",
    "movies_API = pd.merge(plataformas, rating_API, on='id') # Concatenamos el dataframe plataforma y el dataframe ratios"
   ]
  },
  {
   "cell_type": "code",
   "execution_count": 61,
   "metadata": {},
   "outputs": [
    {
     "data": {
      "text/plain": [
       "(22998, 19)"
      ]
     },
     "execution_count": 61,
     "metadata": {},
     "output_type": "execute_result"
    }
   ],
   "source": [
    "#Revisamos las nuevas dimensiones de los dataframes\n",
    "print(plataformas.shape)   # Medimos las dimensiones del dataframe plataforma\n",
    "print(rating_API.shape)    # Medimos las dimensiones del dataframe rating_API\n",
    "print(movies_API.shape)    #Tomamos las dimensiones y lo comparamos con los dataframes anteriores"
   ]
  },
  {
   "cell_type": "code",
   "execution_count": 62,
   "metadata": {},
   "outputs": [],
   "source": [
    "#Exportamos toda la información para la API en .csv\n",
    "movies_API.to_csv('movies_API.csv')     #Exportamos la información en .csv"
   ]
  }
 ],
 "metadata": {
  "kernelspec": {
   "display_name": "Python 3",
   "language": "python",
   "name": "python3"
  },
  "language_info": {
   "codemirror_mode": {
    "name": "ipython",
    "version": 3
   },
   "file_extension": ".py",
   "mimetype": "text/x-python",
   "name": "python",
   "nbconvert_exporter": "python",
   "pygments_lexer": "ipython3",
   "version": "3.10.7"
  },
  "orig_nbformat": 4,
  "vscode": {
   "interpreter": {
    "hash": "fb4569285eef3a3450cb62085a5b1e0da4bce0af555edc33dcf29baf3acc1368"
   }
  }
 },
 "nbformat": 4,
 "nbformat_minor": 2
}
