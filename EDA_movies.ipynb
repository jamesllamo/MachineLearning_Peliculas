{
 "cells": [
  {
   "attachments": {},
   "cell_type": "markdown",
   "metadata": {},
   "source": [
    "# EDA: ANÁLISIS EXPLORATORIO DE LA DATA PELÍCULAS"
   ]
  },
  {
   "attachments": {},
   "cell_type": "markdown",
   "metadata": {},
   "source": [
    "Indice"
   ]
  },
  {
   "attachments": {},
   "cell_type": "markdown",
   "metadata": {},
   "source": [
    "__________________________________________________________"
   ]
  },
  {
   "attachments": {},
   "cell_type": "markdown",
   "metadata": {},
   "source": [
    "1. **IMPORTACIÓN DE LIBRERÍAS**"
   ]
  },
  {
   "cell_type": "code",
   "execution_count": 1,
   "metadata": {},
   "outputs": [],
   "source": [
    "#Importamos Librerías necesarias\n",
    "import pandas as pd                 #Importamos Pandas\n",
    "import numpy as np                  #Importamos numpy\n",
    "import matplotlib.pyplot as plt     #Importamos matplotlib\n",
    "import seaborn as sns               #Importamos seaborn"
   ]
  },
  {
   "attachments": {},
   "cell_type": "markdown",
   "metadata": {},
   "source": [
    "2. **CARGAMOS LA DATA**\n"
   ]
  },
  {
   "cell_type": "code",
   "execution_count": 2,
   "metadata": {},
   "outputs": [
    {
     "name": "stderr",
     "output_type": "stream",
     "text": [
      "C:\\Users\\user\\AppData\\Local\\Temp\\ipykernel_17948\\111028288.py:1: DtypeWarning: Columns (3,4,5,6) have mixed types. Specify dtype option on import or set low_memory=False.\n",
      "  data = pd.read_csv(\"movies_ETL.csv\")\n"
     ]
    }
   ],
   "source": [
    "# Carga de Información ussando pandas\n",
    "data = pd.read_csv(\"movies_ETL.csv\")            # Cargamos el archivo movies_ETL.csv en el dataframe data"
   ]
  },
  {
   "attachments": {},
   "cell_type": "markdown",
   "metadata": {},
   "source": [
    "3. **VISUALIZAMOS LA DATA**"
   ]
  },
  {
   "cell_type": "code",
   "execution_count": 3,
   "metadata": {},
   "outputs": [
    {
     "data": {
      "text/plain": [
       "(11024289, 18)"
      ]
     },
     "execution_count": 3,
     "metadata": {},
     "output_type": "execute_result"
    }
   ],
   "source": [
    "data.shape       #Revisamos las dimensiones del dataframe"
   ]
  },
  {
   "cell_type": "code",
   "execution_count": 4,
   "metadata": {},
   "outputs": [
    {
     "data": {
      "text/html": [
       "<div>\n",
       "<style scoped>\n",
       "    .dataframe tbody tr th:only-of-type {\n",
       "        vertical-align: middle;\n",
       "    }\n",
       "\n",
       "    .dataframe tbody tr th {\n",
       "        vertical-align: top;\n",
       "    }\n",
       "\n",
       "    .dataframe thead th {\n",
       "        text-align: right;\n",
       "    }\n",
       "</style>\n",
       "<table border=\"1\" class=\"dataframe\">\n",
       "  <thead>\n",
       "    <tr style=\"text-align: right;\">\n",
       "      <th></th>\n",
       "      <th>show_id</th>\n",
       "      <th>type</th>\n",
       "      <th>title</th>\n",
       "      <th>director</th>\n",
       "      <th>cast</th>\n",
       "      <th>country</th>\n",
       "      <th>date_added</th>\n",
       "      <th>release_year</th>\n",
       "      <th>rating</th>\n",
       "      <th>duration</th>\n",
       "      <th>listed_in</th>\n",
       "      <th>description</th>\n",
       "      <th>id</th>\n",
       "      <th>duration_int</th>\n",
       "      <th>duration_type</th>\n",
       "      <th>userId</th>\n",
       "      <th>score</th>\n",
       "      <th>date</th>\n",
       "    </tr>\n",
       "  </thead>\n",
       "  <tbody>\n",
       "    <tr>\n",
       "      <th>0</th>\n",
       "      <td>s1</td>\n",
       "      <td>movie</td>\n",
       "      <td>the grand seduction</td>\n",
       "      <td>don mckellar</td>\n",
       "      <td>brendan gleeson, taylor kitsch, gordon pinsent</td>\n",
       "      <td>canada</td>\n",
       "      <td>2021-03-30</td>\n",
       "      <td>2014</td>\n",
       "      <td>g</td>\n",
       "      <td>113 min</td>\n",
       "      <td>comedy, drama</td>\n",
       "      <td>a small fishing village must procure a local d...</td>\n",
       "      <td>as1</td>\n",
       "      <td>113</td>\n",
       "      <td>minutos</td>\n",
       "      <td>543</td>\n",
       "      <td>5.0</td>\n",
       "      <td>2003-07-30</td>\n",
       "    </tr>\n",
       "    <tr>\n",
       "      <th>1</th>\n",
       "      <td>s1</td>\n",
       "      <td>movie</td>\n",
       "      <td>the grand seduction</td>\n",
       "      <td>don mckellar</td>\n",
       "      <td>brendan gleeson, taylor kitsch, gordon pinsent</td>\n",
       "      <td>canada</td>\n",
       "      <td>2021-03-30</td>\n",
       "      <td>2014</td>\n",
       "      <td>g</td>\n",
       "      <td>113 min</td>\n",
       "      <td>comedy, drama</td>\n",
       "      <td>a small fishing village must procure a local d...</td>\n",
       "      <td>as1</td>\n",
       "      <td>113</td>\n",
       "      <td>minutos</td>\n",
       "      <td>595</td>\n",
       "      <td>3.0</td>\n",
       "      <td>1996-08-13</td>\n",
       "    </tr>\n",
       "    <tr>\n",
       "      <th>2</th>\n",
       "      <td>s1</td>\n",
       "      <td>movie</td>\n",
       "      <td>the grand seduction</td>\n",
       "      <td>don mckellar</td>\n",
       "      <td>brendan gleeson, taylor kitsch, gordon pinsent</td>\n",
       "      <td>canada</td>\n",
       "      <td>2021-03-30</td>\n",
       "      <td>2014</td>\n",
       "      <td>g</td>\n",
       "      <td>113 min</td>\n",
       "      <td>comedy, drama</td>\n",
       "      <td>a small fishing village must procure a local d...</td>\n",
       "      <td>as1</td>\n",
       "      <td>113</td>\n",
       "      <td>minutos</td>\n",
       "      <td>611</td>\n",
       "      <td>3.0</td>\n",
       "      <td>2001-01-03</td>\n",
       "    </tr>\n",
       "    <tr>\n",
       "      <th>3</th>\n",
       "      <td>s1</td>\n",
       "      <td>movie</td>\n",
       "      <td>the grand seduction</td>\n",
       "      <td>don mckellar</td>\n",
       "      <td>brendan gleeson, taylor kitsch, gordon pinsent</td>\n",
       "      <td>canada</td>\n",
       "      <td>2021-03-30</td>\n",
       "      <td>2014</td>\n",
       "      <td>g</td>\n",
       "      <td>113 min</td>\n",
       "      <td>comedy, drama</td>\n",
       "      <td>a small fishing village must procure a local d...</td>\n",
       "      <td>as1</td>\n",
       "      <td>113</td>\n",
       "      <td>minutos</td>\n",
       "      <td>2523</td>\n",
       "      <td>3.5</td>\n",
       "      <td>2012-06-25</td>\n",
       "    </tr>\n",
       "    <tr>\n",
       "      <th>4</th>\n",
       "      <td>s1</td>\n",
       "      <td>movie</td>\n",
       "      <td>the grand seduction</td>\n",
       "      <td>don mckellar</td>\n",
       "      <td>brendan gleeson, taylor kitsch, gordon pinsent</td>\n",
       "      <td>canada</td>\n",
       "      <td>2021-03-30</td>\n",
       "      <td>2014</td>\n",
       "      <td>g</td>\n",
       "      <td>113 min</td>\n",
       "      <td>comedy, drama</td>\n",
       "      <td>a small fishing village must procure a local d...</td>\n",
       "      <td>as1</td>\n",
       "      <td>113</td>\n",
       "      <td>minutos</td>\n",
       "      <td>3082</td>\n",
       "      <td>4.0</td>\n",
       "      <td>2000-03-30</td>\n",
       "    </tr>\n",
       "  </tbody>\n",
       "</table>\n",
       "</div>"
      ],
      "text/plain": [
       "  show_id   type                title      director  \\\n",
       "0      s1  movie  the grand seduction  don mckellar   \n",
       "1      s1  movie  the grand seduction  don mckellar   \n",
       "2      s1  movie  the grand seduction  don mckellar   \n",
       "3      s1  movie  the grand seduction  don mckellar   \n",
       "4      s1  movie  the grand seduction  don mckellar   \n",
       "\n",
       "                                             cast country  date_added  \\\n",
       "0  brendan gleeson, taylor kitsch, gordon pinsent  canada  2021-03-30   \n",
       "1  brendan gleeson, taylor kitsch, gordon pinsent  canada  2021-03-30   \n",
       "2  brendan gleeson, taylor kitsch, gordon pinsent  canada  2021-03-30   \n",
       "3  brendan gleeson, taylor kitsch, gordon pinsent  canada  2021-03-30   \n",
       "4  brendan gleeson, taylor kitsch, gordon pinsent  canada  2021-03-30   \n",
       "\n",
       "   release_year rating duration      listed_in  \\\n",
       "0          2014      g  113 min  comedy, drama   \n",
       "1          2014      g  113 min  comedy, drama   \n",
       "2          2014      g  113 min  comedy, drama   \n",
       "3          2014      g  113 min  comedy, drama   \n",
       "4          2014      g  113 min  comedy, drama   \n",
       "\n",
       "                                         description   id  duration_int  \\\n",
       "0  a small fishing village must procure a local d...  as1           113   \n",
       "1  a small fishing village must procure a local d...  as1           113   \n",
       "2  a small fishing village must procure a local d...  as1           113   \n",
       "3  a small fishing village must procure a local d...  as1           113   \n",
       "4  a small fishing village must procure a local d...  as1           113   \n",
       "\n",
       "  duration_type  userId  score        date  \n",
       "0       minutos     543    5.0  2003-07-30  \n",
       "1       minutos     595    3.0  1996-08-13  \n",
       "2       minutos     611    3.0  2001-01-03  \n",
       "3       minutos    2523    3.5  2012-06-25  \n",
       "4       minutos    3082    4.0  2000-03-30  "
      ]
     },
     "execution_count": 4,
     "metadata": {},
     "output_type": "execute_result"
    }
   ],
   "source": [
    "data.head(5)     # Miramos las 5 primeras filas"
   ]
  },
  {
   "cell_type": "code",
   "execution_count": 5,
   "metadata": {},
   "outputs": [
    {
     "name": "stdout",
     "output_type": "stream",
     "text": [
      "<class 'pandas.core.frame.DataFrame'>\n",
      "RangeIndex: 11024289 entries, 0 to 11024288\n",
      "Data columns (total 18 columns):\n",
      " #   Column         Dtype  \n",
      "---  ------         -----  \n",
      " 0   show_id        object \n",
      " 1   type           object \n",
      " 2   title          object \n",
      " 3   director       object \n",
      " 4   cast           object \n",
      " 5   country        object \n",
      " 6   date_added     object \n",
      " 7   release_year   int64  \n",
      " 8   rating         object \n",
      " 9   duration       object \n",
      " 10  listed_in      object \n",
      " 11  description    object \n",
      " 12  id             object \n",
      " 13  duration_int   int64  \n",
      " 14  duration_type  object \n",
      " 15  userId         int64  \n",
      " 16  score          float64\n",
      " 17  date           object \n",
      "dtypes: float64(1), int64(3), object(14)\n",
      "memory usage: 1.5+ GB\n"
     ]
    }
   ],
   "source": [
    "data.info()             # Miramos los tipo de datos"
   ]
  },
  {
   "cell_type": "code",
   "execution_count": 6,
   "metadata": {},
   "outputs": [
    {
     "data": {
      "text/html": [
       "<div>\n",
       "<style scoped>\n",
       "    .dataframe tbody tr th:only-of-type {\n",
       "        vertical-align: middle;\n",
       "    }\n",
       "\n",
       "    .dataframe tbody tr th {\n",
       "        vertical-align: top;\n",
       "    }\n",
       "\n",
       "    .dataframe thead th {\n",
       "        text-align: right;\n",
       "    }\n",
       "</style>\n",
       "<table border=\"1\" class=\"dataframe\">\n",
       "  <thead>\n",
       "    <tr style=\"text-align: right;\">\n",
       "      <th></th>\n",
       "      <th>release_year</th>\n",
       "      <th>duration_int</th>\n",
       "      <th>userId</th>\n",
       "      <th>score</th>\n",
       "    </tr>\n",
       "  </thead>\n",
       "  <tbody>\n",
       "    <tr>\n",
       "      <th>count</th>\n",
       "      <td>1.102429e+07</td>\n",
       "      <td>1.102429e+07</td>\n",
       "      <td>1.102429e+07</td>\n",
       "      <td>1.102429e+07</td>\n",
       "    </tr>\n",
       "    <tr>\n",
       "      <th>mean</th>\n",
       "      <td>2.010819e+03</td>\n",
       "      <td>6.569939e+01</td>\n",
       "      <td>8.997251e+04</td>\n",
       "      <td>3.533455e+00</td>\n",
       "    </tr>\n",
       "    <tr>\n",
       "      <th>std</th>\n",
       "      <td>1.538663e+01</td>\n",
       "      <td>5.175968e+01</td>\n",
       "      <td>8.686601e+04</td>\n",
       "      <td>1.059692e+00</td>\n",
       "    </tr>\n",
       "    <tr>\n",
       "      <th>min</th>\n",
       "      <td>1.920000e+03</td>\n",
       "      <td>0.000000e+00</td>\n",
       "      <td>1.000000e+00</td>\n",
       "      <td>5.000000e-01</td>\n",
       "    </tr>\n",
       "    <tr>\n",
       "      <th>25%</th>\n",
       "      <td>2.010000e+03</td>\n",
       "      <td>3.000000e+00</td>\n",
       "      <td>2.855800e+04</td>\n",
       "      <td>3.000000e+00</td>\n",
       "    </tr>\n",
       "    <tr>\n",
       "      <th>50%</th>\n",
       "      <td>2.016000e+03</td>\n",
       "      <td>8.300000e+01</td>\n",
       "      <td>5.684300e+04</td>\n",
       "      <td>3.500000e+00</td>\n",
       "    </tr>\n",
       "    <tr>\n",
       "      <th>75%</th>\n",
       "      <td>2.019000e+03</td>\n",
       "      <td>1.010000e+02</td>\n",
       "      <td>1.168670e+05</td>\n",
       "      <td>4.000000e+00</td>\n",
       "    </tr>\n",
       "    <tr>\n",
       "      <th>max</th>\n",
       "      <td>2.021000e+03</td>\n",
       "      <td>6.010000e+02</td>\n",
       "      <td>2.708960e+05</td>\n",
       "      <td>5.000000e+00</td>\n",
       "    </tr>\n",
       "  </tbody>\n",
       "</table>\n",
       "</div>"
      ],
      "text/plain": [
       "       release_year  duration_int        userId         score\n",
       "count  1.102429e+07  1.102429e+07  1.102429e+07  1.102429e+07\n",
       "mean   2.010819e+03  6.569939e+01  8.997251e+04  3.533455e+00\n",
       "std    1.538663e+01  5.175968e+01  8.686601e+04  1.059692e+00\n",
       "min    1.920000e+03  0.000000e+00  1.000000e+00  5.000000e-01\n",
       "25%    2.010000e+03  3.000000e+00  2.855800e+04  3.000000e+00\n",
       "50%    2.016000e+03  8.300000e+01  5.684300e+04  3.500000e+00\n",
       "75%    2.019000e+03  1.010000e+02  1.168670e+05  4.000000e+00\n",
       "max    2.021000e+03  6.010000e+02  2.708960e+05  5.000000e+00"
      ]
     },
     "execution_count": 6,
     "metadata": {},
     "output_type": "execute_result"
    }
   ],
   "source": [
    "data.describe()     # mostramos algunas estadísticas básicas de las variables numéricas"
   ]
  },
  {
   "attachments": {},
   "cell_type": "markdown",
   "metadata": {},
   "source": [
    "4. **LIMPIEZA DE DATOS**"
   ]
  },
  {
   "attachments": {},
   "cell_type": "markdown",
   "metadata": {},
   "source": [
    "*4.1. Gestión de Nulos*"
   ]
  },
  {
   "cell_type": "code",
   "execution_count": 7,
   "metadata": {},
   "outputs": [
    {
     "data": {
      "text/plain": [
       "show_id                0\n",
       "type                   0\n",
       "title                  0\n",
       "director         3960615\n",
       "cast             2550859\n",
       "country          5510080\n",
       "date_added       4577546\n",
       "release_year           0\n",
       "rating                 0\n",
       "duration          231117\n",
       "listed_in              0\n",
       "description         1815\n",
       "id                     0\n",
       "duration_int           0\n",
       "duration_type          0\n",
       "userId                 0\n",
       "score                  0\n",
       "date                   0\n",
       "dtype: int64"
      ]
     },
     "execution_count": 7,
     "metadata": {},
     "output_type": "execute_result"
    }
   ],
   "source": [
    "data.isnull().sum()         # Revisar valores faltantes o Nulos"
   ]
  },
  {
   "cell_type": "code",
   "execution_count": 8,
   "metadata": {},
   "outputs": [
    {
     "name": "stdout",
     "output_type": "stream",
     "text": [
      "['don mckellar' 'girish joshi' 'josh webber' ... 'chandra prakash dwivedi'\n",
      " 'majid al ansari' 'mozez singh']\n"
     ]
    }
   ],
   "source": [
    "#Revisamos la composición de las columnas con valores nulos\n",
    "print(data['director'].unique())      #Imprimimos los valores de la columna 'director'"
   ]
  },
  {
   "cell_type": "code",
   "execution_count": 9,
   "metadata": {},
   "outputs": [
    {
     "name": "stdout",
     "output_type": "stream",
     "text": [
      "['brendan gleeson, taylor kitsch, gordon pinsent'\n",
      " 'mahesh manjrekar, abhay mahajan, sachin khedekar'\n",
      " 'tom sizemore, lorenzo lamas, robert lasardo, richard jones, yancey arias, noel gugliemi'\n",
      " ...\n",
      " 'jesse eisenberg, woody harrelson, emma stone, abigail breslin, amber heard, bill murray, derek graf'\n",
      " 'tim allen, courteney cox, chevy chase, kate mara, ryan newman, michael cassidy, spencer breslin, rip torn, kevin zegers'\n",
      " 'vicky kaushal, sarah-jane dias, raaghav chanana, manish chaudhary, meghna malik, malkeet rauni, anita shabdish, chittaranjan tripathy']\n"
     ]
    }
   ],
   "source": [
    "print(data['cast'].unique())      #Imprimimos los valores de la columna 'cast'"
   ]
  },
  {
   "cell_type": "code",
   "execution_count": 10,
   "metadata": {},
   "outputs": [
    {
     "name": "stdout",
     "output_type": "stream",
     "text": [
      "['canada' 'india' 'united states' 'united kingdom' 'france' 'spain' nan\n",
      " 'italy' 'united kingdom, france' 'united states, italy'\n",
      " 'united states, india' 'united kingdom, united states'\n",
      " 'united states, united kingdom, germany' 'japan'\n",
      " 'china, united states, united kingdom'\n",
      " 'denmark, united kingdom, czech republic, netherlands'\n",
      " 'united states, ireland' 'united states, united kingdom, canada'\n",
      " 'united kingdom, united states, india' 'united kingdom, india'\n",
      " 'united states, china' 'canada, united states' 'united states, thailand'\n",
      " 'brazil, united states, india' 'switzerland, india'\n",
      " 'united kingdom, canada, united states' 'germany' 'australia' 'belgium'\n",
      " 'chile, argentina, united states' 'mexico'\n",
      " 'denmark, sweden, united states' 'netherlands'\n",
      " 'united states, united kingdom' 'new zealand' 'united states, portugal'\n",
      " 'united states, france' 'canada, united states, brazil'\n",
      " 'france, united states' 'india, united states' 'india, sweden'\n",
      " 'united kingdom, hungary, united states' 'czech republic, germany'\n",
      " 'united kingdom, france, united states' 'iran, france'\n",
      " 'united states, france, denmark' 'brazil'\n",
      " 'ireland, belgium, france, luxembourg, united kingdom'\n",
      " 'united states, germany, brazil, italy' 'south africa'\n",
      " 'australia, united states, germany' 'germany, austria, united states'\n",
      " 'france, china, belgium, monaco' 'egypt' 'united states, austria'\n",
      " 'united states, united arab emirates'\n",
      " 'united states, belgium, denmark, france' 'switzerland'\n",
      " 'united states, canada'\n",
      " 'india, united states, united kingdom, canada, china'\n",
      " 'india, south africa, brazil' 'united states, germany'\n",
      " 'united states, japan, singapore, south korea' 'afghanistan, france'\n",
      " 'australia, colombia, united kingdom' 'united states, sweden, norway'\n",
      " 'kosovo, netherlands' 'spain, united kingdom, italy' 'austria'\n",
      " 'united kingdom, spain' 'united states, united kingdom, kazakhstan'\n",
      " 'malaysia' 'poland, united states' 'canada, germany' 'india, denmark'\n",
      " 'united states, switzerland' 'united states, germany, italy'\n",
      " 'denmark, france' 'japan, france'\n",
      " 'kosovo, albania, united states, georgia' 'united states, japan'\n",
      " 'germany, canada, united states, france, united kingdom'\n",
      " 'united states, mexico'\n",
      " 'united states, germany, japan, united kingdom, hong kong'\n",
      " 'italy, canada' 'france, belgium' 'italy, spain'\n",
      " 'united states, australia' 'united states, south korea'\n",
      " 'ireland, united states, canada, united kingdom, denmark, spain, poland, hungary'\n",
      " 'france, united kingdom' 'united kingdom, australia'\n",
      " 'ireland, united states' 'canada, united states, france'\n",
      " 'france, south korea, japan, united states'\n",
      " 'united states, united kingdom, hungary'\n",
      " 'united states, united kingdom, australia'\n",
      " 'united states, canada, united kingdom, singapore, australia, thailand'\n",
      " 'south korea, united states, china, japan' 'australia, united kingdom'\n",
      " 'united states, united kingdom, south korea'\n",
      " 'united states, germany, united kingdom' 'united states, canada, ireland'\n",
      " 'united states, brazil' 'united kingdom, united states, canada, ireland'\n",
      " 'united states, united kingdom, belgium, canada' 'austria, south africa'\n",
      " 'united states, spain' 'united kingdom, united states, france'\n",
      " 'united states, canada, hong kong' 'argentina' 'united arab emirates'\n",
      " 'france, switzerland, spain, united states, united arab emirates'\n",
      " 'argentina, mexico' 'france, japan'\n",
      " 'france, united kingdom, united states'\n",
      " 'united kingdom, united states, canada'\n",
      " 'united states, germany, ireland, united kingdom'\n",
      " 'united states, united kingdom, south africa'\n",
      " 'united kingdom, united states, ireland'\n",
      " 'ireland, united kingdom, united states, south korea, canada'\n",
      " 'united states, south korea, france'\n",
      " 'united states, australia, france, canada'\n",
      " 'united states, hungary, united kingdom'\n",
      " 'united states, hong kong, south korea, france, canada, china, united kingdom, australia, japan, taiwan, philippines'\n",
      " 'united states, taiwan, south korea, china, japan, united kingdom'\n",
      " 'germany, united states' 'united kingdom, germany'\n",
      " 'united states, philippines, south korea'\n",
      " 'united kingdom, china, united states' 'tanzania, united states'\n",
      " 'united states, panama, mexico'\n",
      " 'united states, united kingdom, australia, canada'\n",
      " 'united states, angola, botswana, namibia, south africa'\n",
      " 'canada, united states, united kingdom, france, luxembourg'\n",
      " 'australia, united states' 'united states, denmark' 'denmark, china'\n",
      " 'united states, guatemala'\n",
      " 'united states, south korea, singapore, russia, malaysia, kazakhstan, taiwan, hong kong, japan, china, india, syria, iran, egypt, pakistan'\n",
      " 'united states, canada, australia'\n",
      " 'united states, south korea, china, taiwan'\n",
      " 'united states, taiwan, china' 'united states, new zealand'\n",
      " 'canada, malaysia, united states' 'united states, india, united kingdom'\n",
      " 'norway, sweden, united states' 'france, canada, united states'\n",
      " 'united states, poland, slovenia, czech republic, united kingdom'\n",
      " 'united states, canada, australia, taiwan'\n",
      " 'china, hong kong, united states'\n",
      " 'austria, united kingdom, united states' 'china'\n",
      " 'new zealand, united states'\n",
      " 'united states, spain, france, canada, united kingdom'\n",
      " 'united kingdom, germany, united states'\n",
      " 'united kingdom, mexico, united states'\n",
      " 'ireland, united kingdom, germany, sweden'\n",
      " 'united states, united kingdom, germany, canada' 'canada, united kingdom'\n",
      " 'united states, czech republic, spain' 'israel' 'mexico, united states'\n",
      " 'united states, canada, united kingdom' 'russia'\n",
      " 'united states, south africa' 'italy, france, germany'\n",
      " 'united kingdom, spain, ireland, united states'\n",
      " 'ireland, belgium, united states' 'ireland' 'russia, united states'\n",
      " 'germany, belgium' 'germany, luxembourg'\n",
      " 'united kingdom, france, united states, china'\n",
      " 'poland, united kingdom, ukraine' 'italy, united states'\n",
      " 'united kingdom, sweden, germany'\n",
      " 'united states, malta, france, united kingdom'\n",
      " 'chile, netherlands, spain, germany, united states'\n",
      " 'united kingdom, united arab emirates' 'germany, norway'\n",
      " 'sweden, united states, germany, united kingdom'\n",
      " 'united states, united kingdom, italy'\n",
      " 'united kingdom, philippines, hungary, united states'\n",
      " 'united states, bulgaria, spain, germany'\n",
      " 'united states, germany, bulgaria, china'\n",
      " 'france, germany, bulgaria, united states' 'south korea'\n",
      " 'canada, united states, spain, south korea'\n",
      " 'czech republic, united kingdom, united states, france'\n",
      " 'china, united states' 'germany, united states, thailand'\n",
      " 'france, germany' 'sweden, united states' 'france, canada'\n",
      " 'united states, mexico, australia'\n",
      " 'ireland, united kingdom, sweden, belgium, united states'\n",
      " 'switzerland, france, belgium, united states'\n",
      " 'denmark, france, sweden, germany, belgium, tunisia'\n",
      " 'romania, france, germany, sweden' 'ireland, france'\n",
      " 'afghanistan, united states' 'canada, united states, mexico'\n",
      " 'united states, serbia, canada' 'australia, united arab emirates'\n",
      " 'united kingdom, israel, united states'\n",
      " 'united states, germany, canada, united kingdom'\n",
      " 'canada, united kingdom, united states'\n",
      " 'united states, germany, norway, united kingdom, montenegro' 'norway'\n",
      " 'united states, costa rica' 'united states, hong kong'\n",
      " 'united kingdom, denmark, united states'\n",
      " 'united states, australia, colombia, french polynesia, saudi arabia'\n",
      " 'united arab emirates, hong kong' 'chile, colombia, spain, united states'\n",
      " 'germany, france, united states'\n",
      " 'austria, united kingdom, germany, france'\n",
      " 'sweden, france, norway, denmark' 'sweden'\n",
      " 'denmark, sweden, france, germany'\n",
      " 'united states, netherlands, united kingdom, denmark'\n",
      " 'colombia, argentina, netherlands, germany, sweden, uruguay, united states, switzerland, denmark, france'\n",
      " 'united states, bulgaria' 'austria, australia, germany, united states'\n",
      " 'denmark, germany, france, united kingdom, united states, qatar, syria'\n",
      " 'venezuela' 'finland, germany, canada, sweden, france'\n",
      " 'united kingdom, belgium, united states' 'canada, france'\n",
      " 'colombia, united states' 'united states, united kingdom, france'\n",
      " 'australia, united states, united kingdom'\n",
      " 'sweden, denmark, united states'\n",
      " 'australia, united states, united kingdom, india, singapore'\n",
      " 'bulgaria, united states' 'italy, france'\n",
      " 'switzerland, united kingdom, france, united states'\n",
      " 'greece, new zealand'\n",
      " 'united kingdom, ireland, united states, germany, japan, france'\n",
      " 'united kingdom, sweden, norway' 'germany, czech republic'\n",
      " 'sweden, denmark' 'france, spain, romania, belgium, united states'\n",
      " 'denmark' 'united kingdom, india, germany, china, united states'\n",
      " 'ireland, united kingdom' 'italy, belgium'\n",
      " 'germany, luxembourg, denmark, belgium, china'\n",
      " 'iceland, poland, denmark, germany, france'\n",
      " 'belgium, france, netherlands' 'romania, united states'\n",
      " 'finland, united kingdom, canada' 'united kingdom, argentina' 'colombia'\n",
      " 'italy, brazil, germany, france, sweden, united states'\n",
      " 'sweden, denmark, finland' 'united states, canada, mexico'\n",
      " 'norway, france, denmark, sweden' 'france, belgium, united states'\n",
      " 'sweden, france' 'united kingdom, australia, new zealand, united states'\n",
      " 'japan, united states' 'japan, taiwan' 'united kingdom, ireland'\n",
      " 'united kingdom, france, germany, ireland'\n",
      " 'united states, ghana, burkina faso, united kingdom, germany, ethiopia'\n",
      " 'turkey' 'united states, india, france' 'finland'\n",
      " 'china, canada, united states' 'south africa, united states, japan'\n",
      " 'nigeria' 'spain, united states' 'united states, singapore'\n",
      " 'united kingdom, australia, france'\n",
      " 'united kingdom, australia, france, united states'\n",
      " 'south africa, united states' 'united states, italy, france, japan'\n",
      " 'united states, italy, romania, united kingdom' 'argentina, venezuela'\n",
      " 'china, hong kong' 'hong kong' 'united states, china, hong kong'\n",
      " ', south korea' 'india, nepal'\n",
      " 'new zealand, australia, france, united states' 'italy, brazil, greece'\n",
      " 'jordan' 'belgium, united kingdom'\n",
      " 'switzerland, united kingdom, australia' 'israel, united states'\n",
      " 'argentina, spain' 'taiwan' 'united states, nigeria'\n",
      " 'spain, united kingdom, united states'\n",
      " 'spain, france, united kingdom, united states' ', france, algeria'\n",
      " 'poland' 'france, israel, germany, united states, united kingdom'\n",
      " 'saudi arabia' 'thailand' 'indonesia' 'egypt, denmark, germany'\n",
      " 'hong kong, canada, united states' 'kuwait, united states'\n",
      " 'france, canada, united states, spain' 'france, netherlands, singapore'\n",
      " 'ireland, united states, united kingdom' 'australia, new zealand'\n",
      " 'belgium, netherlands' 'south korea, czech republic' 'australia, germany'\n",
      " 'vietnam' 'united kingdom, belgium'\n",
      " 'united kingdom, australia, united states' 'france, japan, united states'\n",
      " 'united kingdom, germany, spain, united states'\n",
      " 'united kingdom, united states, france, italy'\n",
      " 'united states, germany, canada'\n",
      " 'united states, france, italy, united kingdom'\n",
      " 'united states, united kingdom, germany, hungary' 'lebanon' 'romania'\n",
      " 'finland, germany' 'lebanon, syria' 'philippines' 'iceland'\n",
      " 'philippines, singapore, indonesia' 'china, united states, canada'\n",
      " 'lebanon, united arab emirates' 'canada, united states, denmark'\n",
      " 'mexico, france, colombia' 'germany, united states, france'\n",
      " 'united kingdom, france, germany, united states' 'norway, denmark'\n",
      " 'syria, france, lebanon, qatar' 'united states, czech republic'\n",
      " 'mauritius' 'canada, south africa' 'mexico, brazil' 'germany, france'\n",
      " 'united kingdom, france, spain, united states' 'united states, russia'\n",
      " 'united states, united kingdom, new zealand'\n",
      " 'canada, nigeria, united states'\n",
      " 'france, united states, united kingdom, canada' 'india, united kingdom'\n",
      " 'czech republic, united kingdom, united states' 'china, united kingdom'\n",
      " 'italy, united kingdom' 'china, taiwan'\n",
      " 'united states, brazil, japan, spain, india'\n",
      " 'united states, china, united kingdom' 'cameroon'\n",
      " 'lebanon, palestine, denmark, qatar' 'uruguay, germany'\n",
      " 'egypt, saudi arabia'\n",
      " 'united kingdom, france, poland, germany, united states'\n",
      " 'ireland, switzerland, united kingdom, france, united states'\n",
      " 'united kingdom, south africa, france'\n",
      " 'ireland, united kingdom, france, germany' 'united kingdom,' 'kenya'\n",
      " 'spain, argentina' 'india, united kingdom, france, qatar'\n",
      " 'belgium, france' 'argentina, chile' 'chile, brazil'\n",
      " 'united states, colombia' 'canada, united states, united kingdom'\n",
      " 'uruguay' 'luxembourg' 'united states, cambodia, romania' 'bangladesh'\n",
      " 'spain, belgium, united states'\n",
      " 'united kingdom, united states, australia' 'portugal, united states'\n",
      " 'portugal, spain' 'united kingdom, spain, united states'\n",
      " 'hungary, united states' 'canada, united states, cayman islands'\n",
      " 'india, france' 'canada, hungary, united states'\n",
      " 'united kingdom, germany, france, united states' 'denmark, united states'\n",
      " 'senegal' 'france, algeria'\n",
      " 'united kingdom, finland, germany, united states, australia, japan, france, ireland'\n",
      " 'philippines, canada, united kingdom, united states'\n",
      " 'ireland, france, iceland, united states, mexico, belgium, united kingdom, hong kong'\n",
      " 'singapore' 'kuwait' 'united states, france, serbia' 'spain, italy'\n",
      " 'united states, ireland, united kingdom, india'\n",
      " 'united kingdom, singapore' 'hong kong, united states'\n",
      " 'united states, china, canada' 'canada, united states, ireland'\n",
      " 'lebanon, canada, france' 'japan, canada, united states'\n",
      " 'spain, france, canada' 'denmark, singapore, canada, united states'\n",
      " 'united states, china, colombia' 'spain, thailand, united states'\n",
      " 'mexico, spain' 'ireland, luxembourg, belgium' 'canada, belgium'\n",
      " 'lebanon, united arab emirates, france, switzerland, germany'\n",
      " 'france, belgium, italy' 'lebanon, united states, united arab emirates'\n",
      " 'lebanon, france' 'france, lebanon' 'france, lebanon, united kingdom'\n",
      " 'france, norway, lebanon, belgium'\n",
      " 'sweden, czech republic, united kingdom, denmark, netherlands'\n",
      " 'united states, united kingdom, india' 'indonesia, netherlands'\n",
      " 'turkey, south korea' 'serbia, united states' 'namibia'\n",
      " 'united kingdom, kenya' 'united kingdom, france, germany, spain'\n",
      " 'united kingdom, france, united states, belgium, luxembourg, china, germany'\n",
      " 'thailand, united states' 'united states, france, canada, belgium'\n",
      " 'united kingdom, china' 'germany, china, united kingdom'\n",
      " 'australia, new zealand, united states'\n",
      " 'hong kong, iceland, united states' 'france, australia, germany'\n",
      " 'united states, belgium, canada, france' 'south africa, angola'\n",
      " 'united states, philippines'\n",
      " 'united states, united kingdom, canada, china' 'turkey, united states'\n",
      " 'peru, germany, norway' 'mozambique' 'brazil, france'\n",
      " 'china, spain, south korea, united states' 'spain, germany'\n",
      " 'hong kong, china' 'france, belgium, luxembourg, cambodia,' 'belarus'\n",
      " 'indonesia, united kingdom' 'ghana'\n",
      " 'spain, france, canada, united states' 'chile, italy'\n",
      " 'united kingdom, nigeria' 'chile' 'france, egypt' 'egypt, france'\n",
      " 'france, brazil, spain, belgium' 'egypt, algeria'\n",
      " 'canada, south korea, united states' 'nigeria, united kingdom'\n",
      " 'united states, france, canada'\n",
      " 'united arab emirates, jordan, lebanon, saudi arabia'\n",
      " 'united states, mexico, spain, malta'\n",
      " 'saudi arabia, united arab emirates' 'zimbabwe'\n",
      " 'united kingdom, germany, united arab emirates, new zealand'\n",
      " 'canada, nigeria'\n",
      " 'saudi arabia, netherlands, germany, jordan, united arab emirates, united states'\n",
      " 'finland, france' 'united kingdom, germany, united states, france'\n",
      " 'india, united kingdom, china, canada, japan, south korea, united states'\n",
      " 'italy, united kingdom, france' 'united states, mexico, colombia'\n",
      " 'turkey, india' 'italy, turkey' 'united kingdom, united states, japan'\n",
      " 'puerto rico, united states, colombia' 'uruguay, argentina'\n",
      " 'united states, united kingdom, japan' 'united states, argentina'\n",
      " 'united kingdom, italy'\n",
      " 'united kingdom, france, belgium, canada, united states'\n",
      " 'netherlands, germany, denmark, united kingdom' 'hungary'\n",
      " 'austria, germany' 'taiwan, china' 'south korea, united states'\n",
      " 'brazil, united kingdom' 'pakistan, united states'\n",
      " 'romania, france, switzerland, germany' 'romania, united kingdom'\n",
      " 'france, malta, united states' 'cyprus'\n",
      " 'united kingdom, france, belgium, ireland, united states'\n",
      " 'united states, norway, canada' 'kenya, united states' 'taiwan, malaysia'\n",
      " 'uruguay, argentina, germany, spain'\n",
      " 'united states, united kingdom, france, germany, japan'\n",
      " 'united states, france, japan' 'spain, france, united states'\n",
      " 'indonesia, south korea, singapore' 'netherlands, germany, italy, canada'\n",
      " 'spain, germany, denmark, united states' 'norway, sweden'\n",
      " 'south korea, canada, united states, china' 'argentina, uruguay, serbia'\n",
      " 'mauritius, south africa' 'united states, poland'\n",
      " 'united kingdom, united states, germany, denmark, belgium, japan'\n",
      " 'india, germany' 'india, united kingdom, canada, united states'\n",
      " 'philippines, united states' 'romania, bulgaria, hungary'\n",
      " 'uruguay, guatemala' 'france, senegal, belgium' 'united kingdom, canada'\n",
      " 'mexico, united states, spain, colombia' 'canada, norway'\n",
      " 'singapore, united states' 'finland, germany, belgium'\n",
      " 'united states, chile' 'united kingdom, japan, united states'\n",
      " 'spain, united kingdom' 'argentina, united states, mexico'\n",
      " 'united states, south korea, japan' 'canada, australia'\n",
      " 'united kingdom, hungary, australia' 'singapore, malaysia'\n",
      " 'france, belgium, luxembourg, romania, canada, united states'\n",
      " 'south africa, nigeria' 'spain, france' 'united kingdom, hong kong'\n",
      " 'pakistan' 'brazil, united states'\n",
      " 'denmark, brazil, france, portugal, sweden' 'india, turkey'\n",
      " 'malaysia, singapore, hong kong' 'philippines, singapore'\n",
      " 'australia, canada' 'taiwan, china, france, united states'\n",
      " 'germany, italy' 'colombia, peru, united kingdom'\n",
      " 'thailand, china, united states' 'argentina, united states'\n",
      " 'uruguay, spain, mexico' 'france, luxembourg, canada' 'denmark, spain'\n",
      " 'chile, argentina' 'united kingdom, belgium, sweden' 'canada, brazil'\n",
      " 'pakistan, united arab emirates' 'ghana, united states' 'mexico, finland'\n",
      " 'united arab emirates, united kingdom, india' 'netherlands, belgium'\n",
      " 'united states, taiwan' 'austria, iraq, united states'\n",
      " 'united kingdom, malawi' 'paraguay, argentina'\n",
      " 'united kingdom, russia, united states' 'india, pakistan'\n",
      " 'indonesia, singapore' 'spain, belgium' 'iceland, sweden, belgium'\n",
      " 'croatia' 'uruguay, argentina, spain'\n",
      " 'united kingdom, ireland, united states'\n",
      " 'canada, germany, france, united states' 'united kingdom, japan'\n",
      " 'norway, denmark, netherlands, sweden' 'hong kong, china, united states'\n",
      " 'ireland, canada' 'italy, switzerland, france, germany'\n",
      " 'mexico, netherlands' 'united states, sweden' 'germany, france, russia'\n",
      " 'france, iran, united states' 'russia, poland, serbia' 'spain, portugal'\n",
      " 'peru' 'mexico, argentina'\n",
      " 'united kingdom, canada, united states, cayman islands'\n",
      " 'indonesia, united states'\n",
      " 'united states, israel, united kingdom, canada'\n",
      " 'norway, iceland, united states' 'czech republic, united states'\n",
      " 'united kingdom, india, united states' 'united kingdom, west germany'\n",
      " 'india, australia' 'united states,'\n",
      " 'belgium, united kingdom, united states' 'india, germany, austria'\n",
      " 'united states, brazil, south korea, mexico, japan, germany'\n",
      " 'spain, mexico' 'china, japan' 'argentina, france'\n",
      " 'france, luxembourg, united states' 'china, united states, australia'\n",
      " 'colombia, mexico' 'chile, peru' 'argentina, italy'\n",
      " 'canada, japan, united states'\n",
      " 'united kingdom, canada, united states, germany'\n",
      " 'italy, switzerland, albania, poland' 'united states, japan, canada'\n",
      " 'cambodia' 'italy, united states, argentina'\n",
      " 'saudi arabia, syria, egypt, lebanon, kuwait'\n",
      " 'united states, canada, indonesia, united kingdom, china, singapore'\n",
      " 'spain, colombia'\n",
      " 'united kingdom, south africa, australia, united states' 'bulgaria'\n",
      " 'argentina, brazil, france, poland, germany, denmark'\n",
      " 'united kingdom, spain, united states, germany' 'philippines, qatar'\n",
      " 'netherlands, belgium, germany, jordan'\n",
      " 'united arab emirates, united states' 'norway, germany, sweden'\n",
      " 'south korea, china' 'georgia' 'soviet union, india'\n",
      " 'canada, germany, south africa' 'south korea, china, united states'\n",
      " 'india, soviet union' 'india, mexico' 'georgia, germany, france'\n",
      " 'united arab emirates, romania' 'india, malaysia'\n",
      " 'germany, jordan, netherlands' 'turkey, france, germany, poland'\n",
      " 'greece, united states' 'norway, germany' 'france, morocco'\n",
      " 'cambodia, united states' 'united states, colombia, mexico'\n",
      " 'united kingdom, italy, israel, peru, united states'\n",
      " 'argentina, uruguay, spain, france'\n",
      " 'united kingdom, france, united states, belgium'\n",
      " 'france, canada, china, cambodia'\n",
      " 'united kingdom, france, belgium, united states' 'chile, france'\n",
      " 'netherlands, united states' 'france, united kingdom, india'\n",
      " 'czech republic, slovakia' 'singapore, france' 'spain, switzerland'\n",
      " 'united states, australia, china' 'south africa, united states, germany'\n",
      " 'spain, italy, argentina' 'chile, spain, argentina, germany'\n",
      " 'west germany' 'austria, czech republic' 'lebanon, qatar'\n",
      " 'united kingdom, jordan, qatar, iran' 'france, south korea, japan'\n",
      " 'israel, germany, france' 'canada, japan, netherlands'\n",
      " 'united states, hungary' 'france, qatar'\n",
      " 'united kingdom, germany, canada' 'ireland, south africa'\n",
      " 'chile, united states, france' 'united kingdom, ukraine, united states'\n",
      " 'germany, australia, france, china' 'norway, united states'\n",
      " 'united states, bermuda, ecuador'\n",
      " 'united states, hungary, ireland, canada'\n",
      " 'united kingdom, egypt, united states'\n",
      " 'united states, france, united kingdom' 'spain, mexico, france'\n",
      " 'hong kong, china, singapore' 'south africa, china, united states'\n",
      " 'denmark, france, poland' 'new zealand, united kingdom'\n",
      " 'netherlands, denmark, south africa'\n",
      " 'united kingdom, united states, france, germany' 'australia, france'\n",
      " 'ireland, united kingdom, united states'\n",
      " 'united kingdom, france, germany' 'canada, luxembourg'\n",
      " 'brazil, netherlands, united states, colombia, austria, germany'\n",
      " 'france, canada, belgium' 'bulgaria, united states, spain, canada'\n",
      " 'sweden, netherlands' 'france, united states, mexico'\n",
      " 'australia, united kingdom, united arab emirates, canada'\n",
      " 'australia, armenia, japan, jordan, mexico, mongolia, new zealand, philippines, south africa, sweden, united states, uruguay'\n",
      " 'india, iran' 'france, belgium, spain'\n",
      " 'denmark, sweden, israel, united states' 'united states, iceland'\n",
      " 'united kingdom, russia' 'united states, israel, italy, south africa'\n",
      " 'netherlands, denmark, france, germany' 'south korea, japan'\n",
      " 'united kingdom, pakistan' 'france, new zealand'\n",
      " 'united kingdom, czech republic, united states, germany, bahamas'\n",
      " 'china, germany, india, united states' 'germany, sri lanka'\n",
      " 'united states, india, bangladesh' 'united states, canada, france'\n",
      " 'brazil, france, germany' 'germany, united states, hong kong, singapore'\n",
      " 'france, germany, switzerland'\n",
      " 'germany, france, luxembourg, united kingdom, united states'\n",
      " 'united kingdom, canada, italy' 'czech republic, france'\n",
      " 'taiwan, hong kong, united states, china' 'germany, australia'\n",
      " 'united kingdom, poland, united states' 'denmark, zimbabwe'\n",
      " 'united kingdom, south africa' 'finland, sweden, norway, latvia, germany'\n",
      " 'south africa, united states, new zealand, canada'\n",
      " 'united states, italy, united kingdom, liechtenstein'\n",
      " 'denmark, france, belgium, italy, netherlands, united states, united kingdom'\n",
      " 'united states, australia, mexico'\n",
      " 'united kingdom, czech republic, germany, united states'\n",
      " 'france, china, japan, united states' 'united states, south korea, china'\n",
      " 'pakistan, norway, united states'\n",
      " 'united states, canada, belgium, united kingdom'\n",
      " 'canada, france, italy, morocco, united states' 'canada, spain, france'\n",
      " 'united states, indonesia' 'spain, france, italy'\n",
      " 'united arab emirates, united states, united kingdom'\n",
      " 'united kingdom, israel, russia' 'spain, cuba'\n",
      " 'united states, france, mexico' 'united states, nicaragua'\n",
      " 'united kingdom, united states, spain, germany, greece, canada'\n",
      " 'italy, canada, france' 'united kingdom, denmark, canada, croatia'\n",
      " 'italy, germany' 'united states, france, united kingdom, japan'\n",
      " 'united states, united kingdom, denmark, sweden'\n",
      " 'united states, france, canada, spain' 'russia, united states, china'\n",
      " 'united states, canada, germany'\n",
      " 'ireland, united kingdom, italy, united states' 'poland,'\n",
      " 'slovenia, croatia, germany, czech republic, qatar'\n",
      " 'canada, united kingdom, netherlands' 'united states, spain, germany'\n",
      " 'india, japan' 'china, south korea, united states'\n",
      " 'united kingdom, france, belgium' 'canada, ireland, united states'\n",
      " 'united kingdom, united states, dominican republic'\n",
      " 'united states, senegal' 'germany, united kingdom, united states'\n",
      " 'south africa, germany, netherlands, france'\n",
      " 'ireland, united states, france' 'germany, united states, canada'\n",
      " 'united kingdom, germany, canada, united states'\n",
      " 'united states, france, canada, lebanon, qatar'\n",
      " 'netherlands, belgium, united kingdom, united states'\n",
      " 'france, belgium, china, united states' 'united states, chile, israel'\n",
      " 'united kingdom, norway, denmark, germany, sweden'\n",
      " 'norway, denmark, sweden' 'china, india, nepal'\n",
      " 'colombia, mexico, united states' 'united kingdom, south korea'\n",
      " 'united states, greece, brazil' 'south korea, france'\n",
      " 'united states, australia, samoa, united kingdom'\n",
      " 'germany, united kingdom' 'argentina, chile, peru' 'turkey, azerbaijan'\n",
      " 'poland, west germany' 'germany, united states, sweden' 'canada, spain'\n",
      " 'united states, cambodia' 'united states, greece'\n",
      " 'norway, united kingdom, france, ireland' 'united kingdom, poland'\n",
      " 'israel, sweden, germany, netherlands' 'switzerland, france'\n",
      " 'italy, india' 'united states, botswana'\n",
      " 'chile, argentina, france, spain, united states'\n",
      " 'united states, india, south korea, china'\n",
      " 'denmark, germany, belgium, united kingdom, france'\n",
      " 'denmark, germany, belgium, united kingdom, france, sweden'\n",
      " 'brazil, india, china, united states'\n",
      " 'denmark, france, united states, sweden' 'australia, iraq'\n",
      " 'china, morocco, hong kong' 'canada, united states, germany'\n",
      " 'united kingdom, thailand' 'venezuela, colombia'\n",
      " 'france, germany, czech republic, belgium'\n",
      " 'switzerland, vatican city, italy, germany, france'\n",
      " 'portugal, france, poland, united states'\n",
      " 'united states, new zealand, japan'\n",
      " 'united states, netherlands, japan, france' 'india, switzerland'\n",
      " 'canada, india' 'united states, morocco' 'singapore, japan, france'\n",
      " 'canada, mexico, germany, south africa'\n",
      " 'germany, france, united states, canada, united kingdom'\n",
      " 'united states, uruguay' 'india, canada'\n",
      " 'ireland, canada, united kingdom, united states'\n",
      " 'united states, germany, australia' 'australia, france, ireland'\n",
      " 'australia, india' 'united states, united kingdom, canada, japan'\n",
      " 'sweden, united kingdom, finland' 'hong kong, taiwan'\n",
      " 'united states, united kingdom, spain, south korea' 'guatemala' 'ukraine'\n",
      " 'italy, south africa, west germany, australia, united states'\n",
      " 'united states, germany, united kingdom, australia'\n",
      " 'italy, france, switzerland' 'canada, france, united states'\n",
      " 'switzerland, united states' 'thailand, canada, united states'\n",
      " 'united kingdom, new zealand' 'czech republic, united kingdom, france'\n",
      " 'australia, united kingdom, canada' 'jamaica, united states'\n",
      " 'australia, united kingdom, united states, new zealand, italy, france'\n",
      " 'france, united states, canada'\n",
      " 'united kingdom, france, canada, belgium, united states'\n",
      " 'denmark, united kingdom, sweden' 'united states, kazakhstan'\n",
      " 'argentina, france, united states, germany, qatar'\n",
      " 'united states, germany, united kingdom, italy'\n",
      " 'united states, new zealand, united kingdom' 'finland, united states'\n",
      " 'spain, france, uruguay' 'united states, canada, china'\n",
      " 'ireland, canada, luxembourg, united states, united kingdom, philippines, india'\n",
      " 'united states, czech republic, united kingdom' 'israel, germany'\n",
      " 'mexico, france'\n",
      " 'israel, germany, poland, luxembourg, belgium, france, united states'\n",
      " 'austria, united states' 'united kingdom, lithuania'\n",
      " 'united states, greece, united kingdom'\n",
      " 'united kingdom, china, united states, india'\n",
      " 'united kingdom, united states, morocco'\n",
      " 'united states, united kingdom, morocco' 'spain, canada, united states'\n",
      " 'united states, india, united arab emirates'\n",
      " 'united kingdom, canada, france, united states' 'india, germany, france'\n",
      " 'belgium, ireland, netherlands, germany, afghanistan'\n",
      " 'france, canada, italy, united states, china'\n",
      " 'ireland, united kingdom, greece, france, netherlands'\n",
      " 'denmark, indonesia, finland, norway, united kingdom, israel, france, united states, germany, netherlands'\n",
      " 'united states, australia, south africa, united kingdom'\n",
      " 'united states, germany, mexico'\n",
      " 'somalia, kenya, sudan, south africa, united states'\n",
      " 'united states, canada, japan, panama' 'united kingdom, spain, belgium'\n",
      " 'serbia, south korea, slovenia'\n",
      " 'denmark, united kingdom, south africa, sweden, belgium'\n",
      " 'germany, canada, united states'\n",
      " 'ireland, canada, united states, united kingdom'\n",
      " 'new zealand, united kingdom, australia'\n",
      " 'united kingdom, australia, canada, united states'\n",
      " 'germany, united states, italy' 'united states, venezuela'\n",
      " 'united kingdom, canada, japan'\n",
      " 'united kingdom, united states, czech republic'\n",
      " 'united kingdom, brazil, germany'\n",
      " 'united kingdom, namibia, south africa, zimbabwe, united states'\n",
      " 'canada, united states, india, united kingdom'\n",
      " 'switzerland, united kingdom, united states'\n",
      " 'united kingdom, india, sweden'\n",
      " 'united states, brazil, india, uganda, china'\n",
      " 'peru, united states, united kingdom'\n",
      " 'germany, united states, united kingdom, canada'\n",
      " 'canada, india, thailand, united states, united arab emirates'\n",
      " 'united states, east germany, west germany'\n",
      " 'france, netherlands, south africa, finland'\n",
      " 'egypt, austria, united states' 'russia, spain'\n",
      " 'croatia, slovenia, serbia, montenegro' 'japan, canada'\n",
      " 'united states, france, south korea, indonesia'\n",
      " 'united arab emirates, jordan']\n"
     ]
    }
   ],
   "source": [
    "print(data['country'].unique())      #Imprimimos los valores de la columna 'country'"
   ]
  },
  {
   "attachments": {},
   "cell_type": "markdown",
   "metadata": {},
   "source": [
    "`*Profundizamos en Revisión de las columnas 'date_added' y 'release_year'*`"
   ]
  },
  {
   "attachments": {},
   "cell_type": "markdown",
   "metadata": {},
   "source": [
    "El objetivo de este ejecicio de profundización es calcular la diferencia de años entre la fecha de ingreso a la plataforma y la fecha de lanzamiento. Esta diferencia de años nos permitirá establecer una constante para completar los valores nulos en la columna 'date_added'"
   ]
  },
  {
   "cell_type": "code",
   "execution_count": 11,
   "metadata": {},
   "outputs": [],
   "source": [
    "dif_anos_publicacion_lanzamiento=data        #Creamos el dataframe que nos permitirá encontrar algún tipo de relación entre 'date_added' y 'release_year'"
   ]
  },
  {
   "cell_type": "code",
   "execution_count": 12,
   "metadata": {},
   "outputs": [],
   "source": [
    "dif_anos_publicacion_lanzamiento_sin_nulos= dif_anos_publicacion_lanzamiento.dropna(subset=['date_added'])    #Eliminamos los valores nulos para hacer estadística"
   ]
  },
  {
   "cell_type": "code",
   "execution_count": 13,
   "metadata": {},
   "outputs": [
    {
     "data": {
      "text/plain": [
       "(6446743, 18)"
      ]
     },
     "execution_count": 13,
     "metadata": {},
     "output_type": "execute_result"
    }
   ],
   "source": [
    "dif_anos_publicacion_lanzamiento_sin_nulos.shape    #Revisamos las nuevas dimensiones"
   ]
  },
  {
   "cell_type": "code",
   "execution_count": 14,
   "metadata": {},
   "outputs": [
    {
     "name": "stdout",
     "output_type": "stream",
     "text": [
      "object\n"
     ]
    }
   ],
   "source": [
    "print(dif_anos_publicacion_lanzamiento_sin_nulos['date_added'].dtype)       # Revisamos el tipo de dato"
   ]
  },
  {
   "cell_type": "code",
   "execution_count": 15,
   "metadata": {},
   "outputs": [
    {
     "name": "stderr",
     "output_type": "stream",
     "text": [
      "C:\\Users\\user\\AppData\\Local\\Temp\\ipykernel_14988\\4290881803.py:1: SettingWithCopyWarning: \n",
      "A value is trying to be set on a copy of a slice from a DataFrame.\n",
      "Try using .loc[row_indexer,col_indexer] = value instead\n",
      "\n",
      "See the caveats in the documentation: https://pandas.pydata.org/pandas-docs/stable/user_guide/indexing.html#returning-a-view-versus-a-copy\n",
      "  dif_anos_publicacion_lanzamiento_sin_nulos['date_added'] = pd.to_datetime(dif_anos_publicacion_lanzamiento_sin_nulos['date_added']) #Cambiamos el tipo de dato de la columna date_added a fecha\n",
      "C:\\Users\\user\\AppData\\Local\\Temp\\ipykernel_14988\\4290881803.py:2: SettingWithCopyWarning: \n",
      "A value is trying to be set on a copy of a slice from a DataFrame.\n",
      "Try using .loc[row_indexer,col_indexer] = value instead\n",
      "\n",
      "See the caveats in the documentation: https://pandas.pydata.org/pandas-docs/stable/user_guide/indexing.html#returning-a-view-versus-a-copy\n",
      "  dif_anos_publicacion_lanzamiento_sin_nulos['date'] = pd.to_datetime(dif_anos_publicacion_lanzamiento_sin_nulos['date'])             #Cambiamos el tipo de dato de la columna date a fecha\n"
     ]
    }
   ],
   "source": [
    "dif_anos_publicacion_lanzamiento_sin_nulos['date_added'] = pd.to_datetime(dif_anos_publicacion_lanzamiento_sin_nulos['date_added']) #Cambiamos el tipo de dato de la columna date_added a fecha\n",
    "dif_anos_publicacion_lanzamiento_sin_nulos['date'] = pd.to_datetime(dif_anos_publicacion_lanzamiento_sin_nulos['date'])             #Cambiamos el tipo de dato de la columna date a fecha"
   ]
  },
  {
   "cell_type": "code",
   "execution_count": 16,
   "metadata": {},
   "outputs": [
    {
     "name": "stdout",
     "output_type": "stream",
     "text": [
      "datetime64[ns]\n",
      "datetime64[ns]\n"
     ]
    }
   ],
   "source": [
    "print(dif_anos_publicacion_lanzamiento_sin_nulos['date_added'].dtype)   #Revisamos el nuevo tipo de dato\n",
    "print(dif_anos_publicacion_lanzamiento_sin_nulos['date'].dtype)         #Revisamos el nuevo tipo de dato"
   ]
  },
  {
   "cell_type": "code",
   "execution_count": 17,
   "metadata": {},
   "outputs": [
    {
     "name": "stderr",
     "output_type": "stream",
     "text": [
      "C:\\Users\\user\\AppData\\Local\\Temp\\ipykernel_14988\\2874002023.py:1: SettingWithCopyWarning: \n",
      "A value is trying to be set on a copy of a slice from a DataFrame.\n",
      "Try using .loc[row_indexer,col_indexer] = value instead\n",
      "\n",
      "See the caveats in the documentation: https://pandas.pydata.org/pandas-docs/stable/user_guide/indexing.html#returning-a-view-versus-a-copy\n",
      "  dif_anos_publicacion_lanzamiento_sin_nulos['year_publicación_plataforma'] = dif_anos_publicacion_lanzamiento_sin_nulos['date_added'].dt.year    #Extraemos en una nueva columna el valor del año de la columna 'date_added'\n"
     ]
    }
   ],
   "source": [
    "dif_anos_publicacion_lanzamiento_sin_nulos['year_publicación_plataforma'] = dif_anos_publicacion_lanzamiento_sin_nulos['date_added'].dt.year    #Extraemos en una nueva columna el valor del año de la columna 'date_added'"
   ]
  },
  {
   "cell_type": "code",
   "execution_count": 18,
   "metadata": {},
   "outputs": [
    {
     "name": "stderr",
     "output_type": "stream",
     "text": [
      "C:\\Users\\user\\AppData\\Local\\Temp\\ipykernel_14988\\1985043455.py:1: SettingWithCopyWarning: \n",
      "A value is trying to be set on a copy of a slice from a DataFrame.\n",
      "Try using .loc[row_indexer,col_indexer] = value instead\n",
      "\n",
      "See the caveats in the documentation: https://pandas.pydata.org/pandas-docs/stable/user_guide/indexing.html#returning-a-view-versus-a-copy\n",
      "  dif_anos_publicacion_lanzamiento_sin_nulos['dif_publicación_menos_lanzamiento']=dif_anos_publicacion_lanzamiento_sin_nulos['year_publicación_plataforma']-dif_anos_publicacion_lanzamiento_sin_nulos['release_year'] #Creamos una Columna que resta en la que se agregó al sistema - fecha de lanzamiento\n"
     ]
    }
   ],
   "source": [
    "dif_anos_publicacion_lanzamiento_sin_nulos['dif_publicación_menos_lanzamiento']=dif_anos_publicacion_lanzamiento_sin_nulos['year_publicación_plataforma']-dif_anos_publicacion_lanzamiento_sin_nulos['release_year'] #Creamos una Columna que resta en la que se agregó al sistema - fecha de lanzamiento"
   ]
  },
  {
   "cell_type": "code",
   "execution_count": 19,
   "metadata": {},
   "outputs": [
    {
     "data": {
      "text/html": [
       "<div>\n",
       "<style scoped>\n",
       "    .dataframe tbody tr th:only-of-type {\n",
       "        vertical-align: middle;\n",
       "    }\n",
       "\n",
       "    .dataframe tbody tr th {\n",
       "        vertical-align: top;\n",
       "    }\n",
       "\n",
       "    .dataframe thead th {\n",
       "        text-align: right;\n",
       "    }\n",
       "</style>\n",
       "<table border=\"1\" class=\"dataframe\">\n",
       "  <thead>\n",
       "    <tr style=\"text-align: right;\">\n",
       "      <th></th>\n",
       "      <th>release_year</th>\n",
       "      <th>duration_int</th>\n",
       "      <th>userId</th>\n",
       "      <th>score</th>\n",
       "      <th>year_publicación_plataforma</th>\n",
       "      <th>dif_publicación_menos_lanzamiento</th>\n",
       "    </tr>\n",
       "  </thead>\n",
       "  <tbody>\n",
       "    <tr>\n",
       "      <th>count</th>\n",
       "      <td>6.446743e+06</td>\n",
       "      <td>6.446743e+06</td>\n",
       "      <td>6.446743e+06</td>\n",
       "      <td>6.446743e+06</td>\n",
       "      <td>6.446743e+06</td>\n",
       "      <td>6.446743e+06</td>\n",
       "    </tr>\n",
       "    <tr>\n",
       "      <th>mean</th>\n",
       "      <td>2.012663e+03</td>\n",
       "      <td>5.921644e+01</td>\n",
       "      <td>8.994467e+04</td>\n",
       "      <td>3.533938e+00</td>\n",
       "      <td>2.019084e+03</td>\n",
       "      <td>6.420424e+00</td>\n",
       "    </tr>\n",
       "    <tr>\n",
       "      <th>std</th>\n",
       "      <td>1.186633e+01</td>\n",
       "      <td>5.177319e+01</td>\n",
       "      <td>8.685771e+04</td>\n",
       "      <td>1.059837e+00</td>\n",
       "      <td>1.690596e+00</td>\n",
       "      <td>1.181716e+01</td>\n",
       "    </tr>\n",
       "    <tr>\n",
       "      <th>min</th>\n",
       "      <td>1.923000e+03</td>\n",
       "      <td>0.000000e+00</td>\n",
       "      <td>1.000000e+00</td>\n",
       "      <td>5.000000e-01</td>\n",
       "      <td>2.006000e+03</td>\n",
       "      <td>-3.000000e+00</td>\n",
       "    </tr>\n",
       "    <tr>\n",
       "      <th>25%</th>\n",
       "      <td>2.012000e+03</td>\n",
       "      <td>2.000000e+00</td>\n",
       "      <td>2.854000e+04</td>\n",
       "      <td>3.000000e+00</td>\n",
       "      <td>2.018000e+03</td>\n",
       "      <td>0.000000e+00</td>\n",
       "    </tr>\n",
       "    <tr>\n",
       "      <th>50%</th>\n",
       "      <td>2.017000e+03</td>\n",
       "      <td>7.800000e+01</td>\n",
       "      <td>5.683300e+04</td>\n",
       "      <td>3.500000e+00</td>\n",
       "      <td>2.019000e+03</td>\n",
       "      <td>2.000000e+00</td>\n",
       "    </tr>\n",
       "    <tr>\n",
       "      <th>75%</th>\n",
       "      <td>2.019000e+03</td>\n",
       "      <td>1.010000e+02</td>\n",
       "      <td>1.168470e+05</td>\n",
       "      <td>4.000000e+00</td>\n",
       "      <td>2.020000e+03</td>\n",
       "      <td>7.000000e+00</td>\n",
       "    </tr>\n",
       "    <tr>\n",
       "      <th>max</th>\n",
       "      <td>2.021000e+03</td>\n",
       "      <td>3.120000e+02</td>\n",
       "      <td>2.708960e+05</td>\n",
       "      <td>5.000000e+00</td>\n",
       "      <td>2.021000e+03</td>\n",
       "      <td>9.600000e+01</td>\n",
       "    </tr>\n",
       "  </tbody>\n",
       "</table>\n",
       "</div>"
      ],
      "text/plain": [
       "       release_year  duration_int        userId         score  \\\n",
       "count  6.446743e+06  6.446743e+06  6.446743e+06  6.446743e+06   \n",
       "mean   2.012663e+03  5.921644e+01  8.994467e+04  3.533938e+00   \n",
       "std    1.186633e+01  5.177319e+01  8.685771e+04  1.059837e+00   \n",
       "min    1.923000e+03  0.000000e+00  1.000000e+00  5.000000e-01   \n",
       "25%    2.012000e+03  2.000000e+00  2.854000e+04  3.000000e+00   \n",
       "50%    2.017000e+03  7.800000e+01  5.683300e+04  3.500000e+00   \n",
       "75%    2.019000e+03  1.010000e+02  1.168470e+05  4.000000e+00   \n",
       "max    2.021000e+03  3.120000e+02  2.708960e+05  5.000000e+00   \n",
       "\n",
       "       year_publicación_plataforma  dif_publicación_menos_lanzamiento  \n",
       "count                 6.446743e+06                       6.446743e+06  \n",
       "mean                  2.019084e+03                       6.420424e+00  \n",
       "std                   1.690596e+00                       1.181716e+01  \n",
       "min                   2.006000e+03                      -3.000000e+00  \n",
       "25%                   2.018000e+03                       0.000000e+00  \n",
       "50%                   2.019000e+03                       2.000000e+00  \n",
       "75%                   2.020000e+03                       7.000000e+00  \n",
       "max                   2.021000e+03                       9.600000e+01  "
      ]
     },
     "execution_count": 19,
     "metadata": {},
     "output_type": "execute_result"
    }
   ],
   "source": [
    "dif_anos_publicacion_lanzamiento_sin_nulos.describe()   #Mostramos las estdísticas"
   ]
  },
  {
   "attachments": {},
   "cell_type": "markdown",
   "metadata": {},
   "source": [
    "### `**Resultado: en este sentido le restaremos 6 años a los valores faltantes de la columna 'date_added' debido a que la media es de 6.4**`"
   ]
  },
  {
   "attachments": {},
   "cell_type": "markdown",
   "metadata": {},
   "source": [
    "`...fin de la profundización`"
   ]
  },
  {
   "cell_type": "code",
   "execution_count": 21,
   "metadata": {},
   "outputs": [
    {
     "name": "stdout",
     "output_type": "stream",
     "text": [
      "['113 min' '110 min' '74 min' '69 min' '45 min' '52 min' '98 min'\n",
      " '131 min' '87 min' '92 min' '88 min' '93 min' '94 min' '46 min' '96 min'\n",
      " '1 season' '104 min' '62 min' '50 min' '3 seasons' '2 seasons' '86 min'\n",
      " '36 min' '37 min' '103 min' '9 min' '18 min' '14 min' '20 min' '19 min'\n",
      " '22 min' '60 min' '6 min' '54 min' '5 min' '84 min' '126 min' '125 min'\n",
      " '109 min' '89 min' '85 min' '56 min' '40 min' '111 min' '33 min' '34 min'\n",
      " '95 min' '99 min' '78 min' '4 seasons' '77 min' '55 min' '53 min'\n",
      " '115 min' '58 min' '49 min' '135 min' '91 min' '64 min' '59 min' '48 min'\n",
      " '122 min' '90 min' '102 min' '65 min' '114 min' '136 min' '70 min'\n",
      " '138 min' '100 min' '480 min' '4 min' '30 min' '152 min' '68 min'\n",
      " '57 min' '7 seasons' '31 min' '151 min' '149 min' '9 seasons' '141 min'\n",
      " '121 min' '79 min' '140 min' '51 min' '106 min' '75 min' '27 min'\n",
      " '107 min' '108 min' '38 min' '157 min' '43 min' '118 min' '139 min'\n",
      " '6 seasons' '112 min' '15 min' '72 min' '5 seasons' '116 min' '142 min'\n",
      " '71 min' '42 min' '81 min' '32 min' '66 min' '127 min' '159 min' '67 min'\n",
      " '29 min' '132 min' '101 min' '164 min' '73 min' '61 min' '80 min'\n",
      " '83 min' '44 min' '120 min' '26 min' '97 min' '23 min' '105 min' '82 min'\n",
      " '11 min' '148 min' '161 min' '123 min' '29 seasons' '0 min' '124 min'\n",
      " '143 min' '35 min' '47 min' '170 min' '19 seasons' '3 min' '146 min'\n",
      " '601 min' '24 min' '21 seasons' '154 min' '128 min' '133 min' '153 min'\n",
      " '119 min' '63 min' '169 min' '174 min' '144 min' '7 min' '137 min'\n",
      " '76 min' '39 min' '8 seasons' '12 seasons' '134 min' '163 min' '1 min'\n",
      " '145 min' '162 min' '41 min' '147 min' '155 min' '117 min' '167 min'\n",
      " '11 seasons' '28 min' '25 min' '180 min' '2 min' '541 min' '240 min'\n",
      " '129 min' '178 min' '171 min' '21 min' '172 min' '173 min' '10 min'\n",
      " '166 min' '160 min' '130 min' '479 min' '13 min' '8 min' '10 seasons'\n",
      " '17 min' '16 min' '158 min' '183 min' '12 min' '14 seasons' '150 min'\n",
      " '481 min' '181 min' '156 min' '540 min' '177 min' '550 min' '485 min'\n",
      " '176 min' '193 min' '165 min' '175 min' '188 min' '187 min' '168 min'\n",
      " '190 min' '185 min' '209 min' '192 min' '182 min' '207 min' '269 min'\n",
      " '15 seasons' '191 min' '32 seasons' '16 seasons' nan '23 seasons'\n",
      " '20 seasons' '13 seasons' '17 seasons' '30 seasons' '22 seasons'\n",
      " '25 seasons' '34 seasons' '26 seasons' '229 min' '189 min' '273 min'\n",
      " '204 min' '212 min' '224 min' '203 min' '194 min' '233 min' '237 min'\n",
      " '230 min' '195 min' '253 min' '208 min' '186 min' '312 min' '214 min'\n",
      " '179 min' '200 min' '196 min' '228 min' '205 min' '201 min']\n"
     ]
    }
   ],
   "source": [
    "print(data['duration'].unique())      #Imprimimos los valores de la columna 'duration'"
   ]
  },
  {
   "cell_type": "code",
   "execution_count": 22,
   "metadata": {},
   "outputs": [
    {
     "name": "stdout",
     "output_type": "stream",
     "text": [
      "[\"a small fishing village must procure a local doctor to secure a lucrative business contract. when unlikely candidate and big city doctor paul lewis lands in their lap for a trial residence, the townsfolk rally together to charm him into staying. as the doctor's time in the village winds to a close, acting mayor murray french has no choice but to pull out all the stops.\"\n",
      " 'a metro family decides to fight a cyber criminal threatening their stability and pride.'\n",
      " 'after a man discovers his wife is cheating on him with a neighborhood kid he goes down a furious path of self-destruction'\n",
      " ...\n",
      " 'looking to survive in a world taken over by zombies, a dorky college student teams with an urban roughneck and a pair of grifter sisters.'\n",
      " 'dragged from civilian life, a former superhero must train a new crop of youthful saviors when the military preps for an attack by a familiar villain.'\n",
      " \"a scrappy but poor boy worms his way into a tycoon's dysfunctional family, while facing his fear of music and the truth about his past.\"]\n"
     ]
    }
   ],
   "source": [
    "print(data['description'].unique())      #Imprimimos los valores de la columna 'description'"
   ]
  },
  {
   "cell_type": "code",
   "execution_count": 23,
   "metadata": {},
   "outputs": [
    {
     "name": "stdout",
     "output_type": "stream",
     "text": [
      "[113 110  74  69  45  52  98 131  87  92  88  93  94  46  96   1 104  62\n",
      "  50   3   2  86  36  37 103   9  18  14  20  19  22  60   6  54   5  84\n",
      " 126 125 109  89  85  56  40 111  33  34  95  99  78   4  77  55  53 115\n",
      "  58  49 135  91  64  59  48 122  90 102  65 114 136  70 138 100 480  30\n",
      " 152  68  57   7  31 151 149 141 121  79 140  51 106  75  27 107 108  38\n",
      " 157  43 118 139 112  15  72 116 142  71  42  81  32  66 127 159  67  29\n",
      " 132 101 164  73  61  80  83  44 120  26  97  23 105  82  11 148 161 123\n",
      "   0 124 143  35  47 170 146 601  24  21 154 128 133 153 119  63 169 174\n",
      " 144 137  76  39   8  12 134 163 145 162  41 147 155 117 167  28  25 180\n",
      " 541 240 129 178 171 172 173  10 166 160 130 479  13  17  16 158 183 150\n",
      " 481 181 156 540 177 550 485 176 193 165 175 188 187 168 190 185 209 192\n",
      " 182 207 269 191 229 189 273 204 212 224 203 194 233 237 230 195 253 208\n",
      " 186 312 214 179 200 196 228 205 201]\n"
     ]
    }
   ],
   "source": [
    "print(data['duration_int'].unique())      #Imprimimos los valores de la columna 'duration_int' porque es dependiente de 'duration'"
   ]
  },
  {
   "cell_type": "code",
   "execution_count": 24,
   "metadata": {},
   "outputs": [
    {
     "name": "stdout",
     "output_type": "stream",
     "text": [
      "['minutos' 'temporadas' '0']\n"
     ]
    }
   ],
   "source": [
    "print(data['duration_type'].unique())      #Imprimimos los valores de la columna 'duration_type' porque es dependiente de 'duration'"
   ]
  },
  {
   "cell_type": "code",
   "execution_count": 3,
   "metadata": {},
   "outputs": [],
   "source": [
    "# Reemplazamos los valores nulos\n",
    "data['director'].fillna('sin_dato', inplace=True)           #Reemplazamos los valores Nulos con el término 'sin_dato' en en la Columna 'director'\n",
    "data['cast'].fillna('sin_dato', inplace=True)               #Reemplazamos los valores Nulos con el término 'sin_dato' en en la Columna 'cast'\n",
    "data['country'].fillna('sin_dato', inplace=True)            #Reemplazamos los valores Nulos con el término 'sin_dato' en en la Columna 'country'\n",
    "data['date_added'] = data['date_added'].fillna(pd.to_datetime((data['release_year']+6).astype(str) + '-' + '1'+ '-' + '01'))    #Reemplazamos los valores Nulos de la columna 'date_added' con la fecha de estreno +6 días\n",
    "data['duration'].fillna('sin_dato', inplace=True)           #Reemplazamos los valores Nulos con el término 'sin_dato' en en la Columna 'duration'\n",
    "data['description'].fillna('sin_dato', inplace=True)        #Reemplazamos los valores Nulos con el término 'sin_dato' en en la Columna 'description'"
   ]
  },
  {
   "cell_type": "code",
   "execution_count": 26,
   "metadata": {},
   "outputs": [
    {
     "data": {
      "text/plain": [
       "show_id          0\n",
       "type             0\n",
       "title            0\n",
       "director         0\n",
       "cast             0\n",
       "country          0\n",
       "date_added       0\n",
       "release_year     0\n",
       "rating           0\n",
       "duration         0\n",
       "listed_in        0\n",
       "description      0\n",
       "id               0\n",
       "duration_int     0\n",
       "duration_type    0\n",
       "userId           0\n",
       "score            0\n",
       "date             0\n",
       "dtype: int64"
      ]
     },
     "execution_count": 26,
     "metadata": {},
     "output_type": "execute_result"
    }
   ],
   "source": [
    "data.isnull().sum()             # Volvemos a revisar valores faltantes o Nulos"
   ]
  },
  {
   "attachments": {},
   "cell_type": "markdown",
   "metadata": {},
   "source": [
    "*4.2. Gestión de Duplicados*"
   ]
  },
  {
   "attachments": {},
   "cell_type": "markdown",
   "metadata": {},
   "source": [
    "La premisa para eliminar duplicados es: **Un usuario no puede calificar varias veces la misma película y si lo hace nos quedaremos con la más calificación más atual**"
   ]
  },
  {
   "cell_type": "code",
   "execution_count": 5,
   "metadata": {},
   "outputs": [
    {
     "name": "stdout",
     "output_type": "stream",
     "text": [
      "(11013825, 18)\n",
      "(0, 18)\n"
     ]
    }
   ],
   "source": [
    "#Eliminamos duplicados y nos quedamos con la última fecha\n",
    "data = data.sort_values('date', ascending=False)    # ordenar los datos por la columna de fecha en orden descendente\n",
    "data_aux = data.drop_duplicates(keep='first')       # eliminar filas duplicadas en función de la columna de fecha de score\n",
    "data=data_aux                                       # Reemplazamos los valores del dataframe original por los nuevos\n",
    "print(data_aux.shape)                               # Imprimir las dimensiones finales\n",
    "duplicados_dup=data[data.duplicated()]              # Extraemos los duplicados\n",
    "print(duplicados_dup.shape)                         # Imprimir la cantidad de duplicados finales\n"
   ]
  },
  {
   "attachments": {},
   "cell_type": "markdown",
   "metadata": {},
   "source": [
    "*4.3. Gestión de Valores inconsistentes*"
   ]
  },
  {
   "cell_type": "code",
   "execution_count": 6,
   "metadata": {},
   "outputs": [],
   "source": [
    "#Cambiamos el formato de las columnas 'date_added' y 'date' a formato fecha\n",
    "data['date_added'] = pd.to_datetime(data['date_added']) #Cambiamos el tipo de dato de la columna 'date_added' a formato fecha\n",
    "data['date'] = pd.to_datetime(data['date'])             #Cambiamos el tipo de dato de la columna 'date' a formato fecha"
   ]
  },
  {
   "cell_type": "code",
   "execution_count": null,
   "metadata": {},
   "outputs": [
    {
     "name": "stdout",
     "output_type": "stream",
     "text": [
      "datetime64[ns]\n",
      "datetime64[ns]\n"
     ]
    }
   ],
   "source": [
    "#Revisamos que los cambios de formato se hayan realizado correctamente\n",
    "print(data['date_added'].dtype)   #Revisamos el nuevo tipo de dato\n",
    "print(data['date'].dtype)         #Revisamos el nuevo tipo de dato"
   ]
  },
  {
   "cell_type": "code",
   "execution_count": null,
   "metadata": {},
   "outputs": [],
   "source": [
    "#Creamos una columna de nombre plataforma para distinguir mejor la plataforma consultada\n",
    "data['plataforma'] = data['id'].str.get(0)                          #Extraemos la primera letra de la columna 'id' y creamos una nueva columna 'plataforma'\n",
    "data['plataforma'] = data['plataforma'].replace('a', 'amazon')      #Reemplazamos los datos de la columna 'plataforma' por el nombre ampliado 'amazon'\n",
    "data['plataforma'] = data['plataforma'].replace('d', 'disney')      #Reemplazamos los datos de la columna 'plataforma' por el nombre ampliado 'disney'\n",
    "data['plataforma'] = data['plataforma'].replace('h', 'hulu')        #Reemplazamos los datos de la columna 'plataforma' por el nombre ampliado 'hulu'\n",
    "data['plataforma'] = data['plataforma'].replace('n', 'netflix')     #Reemplazamos los datos de la columna 'plataforma' por el nombre ampliado 'netflix'"
   ]
  },
  {
   "attachments": {},
   "cell_type": "markdown",
   "metadata": {},
   "source": [
    "`Otra informacion inconsistente es la fecha del rating por cada película, esta es inferior a la fecha de carga  a la plataforma, sin embargo se trabajará sobre esa data normalmente asumiendo que es un error de instrumento`"
   ]
  },
  {
   "attachments": {},
   "cell_type": "markdown",
   "metadata": {},
   "source": [
    "*4.4. Gestión de Outliers*"
   ]
  },
  {
   "cell_type": "code",
   "execution_count": 38,
   "metadata": {},
   "outputs": [
    {
     "data": {
      "text/plain": [
       "<AxesSubplot: xlabel='score'>"
      ]
     },
     "execution_count": 38,
     "metadata": {},
     "output_type": "execute_result"
    },
    {
     "data": {
      "image/png": "[encoded data removed]",
      "text/plain": [
       "<Figure size 640x480 with 1 Axes>"
      ]
     },
     "metadata": {},
     "output_type": "display_data"
    }
   ],
   "source": [
    "#Buscamos outliers\n",
    "sns.boxplot(x=data['score'])      # Revisar los outliers mediante un gráfico boxplot"
   ]
  },
  {
   "cell_type": "code",
   "execution_count": 39,
   "metadata": {},
   "outputs": [
    {
     "data": {
      "image/png": "[encoded data removed]",
      "text/plain": [
       "<Figure size 640x480 with 1 Axes>"
      ]
     },
     "metadata": {},
     "output_type": "display_data"
    }
   ],
   "source": [
    "#Visualizamos la densidad de la data \n",
    "sns.violinplot(data=data, x='score')            #Declaramos la columna\n",
    "plt.title('Violin plot de la columna score')    #Asignamos un titulo al gráfico\n",
    "plt.xlabel('Score')                             #Asignamos un nombre al eje x\n",
    "plt.ylabel('Valores')                           #Asignamos un nombre al eje y\n",
    "plt.show()                                      #Mostramos el gráfico"
   ]
  },
  {
   "attachments": {},
   "cell_type": "markdown",
   "metadata": {},
   "source": [
    "`No Eliminamos los outliers de la columna 'score' porque es un comportamiento normal de la data, está dentro de los rangos`"
   ]
  },
  {
   "attachments": {},
   "cell_type": "markdown",
   "metadata": {},
   "source": [
    "5. **ANÁLISIS EXPLORATORIO**"
   ]
  },
  {
   "cell_type": "code",
   "execution_count": 41,
   "metadata": {},
   "outputs": [
    {
     "data": {
      "image/png": "[encoded data removed]",
      "text/plain": [
       "<Figure size 640x480 with 1 Axes>"
      ]
     },
     "metadata": {},
     "output_type": "display_data"
    }
   ],
   "source": [
    "# Histograms\n",
    "plt.hist(data['score'])\n",
    "plt.show()\n",
    "\n"
   ]
  },
  {
   "cell_type": "code",
   "execution_count": 44,
   "metadata": {},
   "outputs": [],
   "source": [
    "# Scatter plots\n",
    "sns.scatterplot(x='plataforma', y='score', data=data)\n",
    "sns.scatterplot(x='type', y='score', data=data)"
   ]
  },
  {
   "attachments": {},
   "cell_type": "markdown",
   "metadata": {},
   "source": [
    "`Todas las plataformas tienen calificacioes a lo largo de 0.5 y 5`"
   ]
  },
  {
   "cell_type": "code",
   "execution_count": 49,
   "metadata": {},
   "outputs": [
    {
     "data": {
      "text/plain": [
       "<AxesSubplot: xlabel='score', ylabel='count'>"
      ]
     },
     "execution_count": 49,
     "metadata": {},
     "output_type": "execute_result"
    },
    {
     "data": {
      "image/png": "[encoded data removed]",
      "text/plain": [
       "<Figure size 640x480 with 1 Axes>"
      ]
     },
     "metadata": {},
     "output_type": "display_data"
    }
   ],
   "source": [
    "# Bar plots\n",
    "sns.countplot(x='score', data=data)"
   ]
  },
  {
   "attachments": {},
   "cell_type": "markdown",
   "metadata": {},
   "source": [
    "`El score 4 y 3 acumulan más del 30% las puntuaciones`"
   ]
  },
  {
   "cell_type": "code",
   "execution_count": 50,
   "metadata": {},
   "outputs": [],
   "source": [
    "# Correlation\n",
    "sns.heatmap(data_so.corr(), annot=True)"
   ]
  },
  {
   "attachments": {},
   "cell_type": "markdown",
   "metadata": {},
   "source": [
    "`No existe ninguna variable numérica que tenga correlación con el score`"
   ]
  },
  {
   "attachments": {},
   "cell_type": "markdown",
   "metadata": {},
   "source": [
    "6. **ANÁLISIS PROFUNDO**"
   ]
  },
  {
   "cell_type": "code",
   "execution_count": 52,
   "metadata": {},
   "outputs": [],
   "source": [
    "# Agrupamos y mostramos los 2 valores más altos por película\n",
    "data_auxiliar=data\n",
    "data_auxiliar['promedio_id'] = data_auxiliar.groupby('id')['score'].transform('mean')\n",
    "sns.distplot(data_auxiliar['promedio_id'], kde=True, color='blue')"
   ]
  },
  {
   "attachments": {},
   "cell_type": "markdown",
   "metadata": {},
   "source": [
    "`El comportamiento del score con respecto al id de las películas sigue un comportamiento normal`"
   ]
  },
  {
   "cell_type": "code",
   "execution_count": 56,
   "metadata": {},
   "outputs": [
    {
     "data": {
      "text/html": [
       "<div>\n",
       "<style scoped>\n",
       "    .dataframe tbody tr th:only-of-type {\n",
       "        vertical-align: middle;\n",
       "    }\n",
       "\n",
       "    .dataframe tbody tr th {\n",
       "        vertical-align: top;\n",
       "    }\n",
       "\n",
       "    .dataframe thead th {\n",
       "        text-align: right;\n",
       "    }\n",
       "</style>\n",
       "<table border=\"1\" class=\"dataframe\">\n",
       "  <thead>\n",
       "    <tr style=\"text-align: right;\">\n",
       "      <th>plataforma</th>\n",
       "      <th>amazon</th>\n",
       "      <th>disney</th>\n",
       "      <th>hulu</th>\n",
       "      <th>netflix</th>\n",
       "    </tr>\n",
       "    <tr>\n",
       "      <th>type</th>\n",
       "      <th></th>\n",
       "      <th></th>\n",
       "      <th></th>\n",
       "      <th></th>\n",
       "    </tr>\n",
       "  </thead>\n",
       "  <tbody>\n",
       "    <tr>\n",
       "      <th>movie</th>\n",
       "      <td>3.532750</td>\n",
       "      <td>3.531689</td>\n",
       "      <td>3.534510</td>\n",
       "      <td>3.533897</td>\n",
       "    </tr>\n",
       "    <tr>\n",
       "      <th>tv show</th>\n",
       "      <td>3.532481</td>\n",
       "      <td>3.533425</td>\n",
       "      <td>3.534286</td>\n",
       "      <td>3.534745</td>\n",
       "    </tr>\n",
       "  </tbody>\n",
       "</table>\n",
       "</div>"
      ],
      "text/plain": [
       "plataforma    amazon    disney      hulu   netflix\n",
       "type                                              \n",
       "movie       3.532750  3.531689  3.534510  3.533897\n",
       "tv show     3.532481  3.533425  3.534286  3.534745"
      ]
     },
     "execution_count": 56,
     "metadata": {},
     "output_type": "execute_result"
    }
   ],
   "source": [
    "# Pivot Tables\n",
    "data.pivot_table(values='score', index='type', columns='plataforma')"
   ]
  },
  {
   "attachments": {},
   "cell_type": "markdown",
   "metadata": {},
   "source": [
    "`La puntuación promedio de todas las plataformas es identica en 3.5.`"
   ]
  },
  {
   "cell_type": "code",
   "execution_count": 57,
   "metadata": {},
   "outputs": [
    {
     "data": {
      "text/html": [
       "<div>\n",
       "<style scoped>\n",
       "    .dataframe tbody tr th:only-of-type {\n",
       "        vertical-align: middle;\n",
       "    }\n",
       "\n",
       "    .dataframe tbody tr th {\n",
       "        vertical-align: top;\n",
       "    }\n",
       "\n",
       "    .dataframe thead th {\n",
       "        text-align: right;\n",
       "    }\n",
       "</style>\n",
       "<table border=\"1\" class=\"dataframe\">\n",
       "  <thead>\n",
       "    <tr style=\"text-align: right;\">\n",
       "      <th>score</th>\n",
       "      <th>0.5</th>\n",
       "      <th>1.0</th>\n",
       "      <th>1.5</th>\n",
       "      <th>2.0</th>\n",
       "      <th>2.5</th>\n",
       "      <th>3.0</th>\n",
       "      <th>3.5</th>\n",
       "      <th>4.0</th>\n",
       "      <th>4.5</th>\n",
       "      <th>5.0</th>\n",
       "    </tr>\n",
       "    <tr>\n",
       "      <th>plataforma</th>\n",
       "      <th></th>\n",
       "      <th></th>\n",
       "      <th></th>\n",
       "      <th></th>\n",
       "      <th></th>\n",
       "      <th></th>\n",
       "      <th></th>\n",
       "      <th></th>\n",
       "      <th></th>\n",
       "      <th></th>\n",
       "    </tr>\n",
       "  </thead>\n",
       "  <tbody>\n",
       "    <tr>\n",
       "      <th>amazon</th>\n",
       "      <td>68800</td>\n",
       "      <td>147144</td>\n",
       "      <td>70702</td>\n",
       "      <td>310974</td>\n",
       "      <td>222822</td>\n",
       "      <td>938794</td>\n",
       "      <td>558168</td>\n",
       "      <td>1246115</td>\n",
       "      <td>386422</td>\n",
       "      <td>677448</td>\n",
       "    </tr>\n",
       "    <tr>\n",
       "      <th>disney</th>\n",
       "      <td>10302</td>\n",
       "      <td>22236</td>\n",
       "      <td>10560</td>\n",
       "      <td>46878</td>\n",
       "      <td>33747</td>\n",
       "      <td>139911</td>\n",
       "      <td>83755</td>\n",
       "      <td>187198</td>\n",
       "      <td>58084</td>\n",
       "      <td>101521</td>\n",
       "    </tr>\n",
       "    <tr>\n",
       "      <th>hulu</th>\n",
       "      <td>21951</td>\n",
       "      <td>46823</td>\n",
       "      <td>22392</td>\n",
       "      <td>98356</td>\n",
       "      <td>70757</td>\n",
       "      <td>297513</td>\n",
       "      <td>177449</td>\n",
       "      <td>397510</td>\n",
       "      <td>122728</td>\n",
       "      <td>215911</td>\n",
       "    </tr>\n",
       "    <tr>\n",
       "      <th>netflix</th>\n",
       "      <td>62930</td>\n",
       "      <td>134182</td>\n",
       "      <td>63714</td>\n",
       "      <td>283323</td>\n",
       "      <td>202893</td>\n",
       "      <td>854858</td>\n",
       "      <td>509268</td>\n",
       "      <td>1137469</td>\n",
       "      <td>351835</td>\n",
       "      <td>620382</td>\n",
       "    </tr>\n",
       "  </tbody>\n",
       "</table>\n",
       "</div>"
      ],
      "text/plain": [
       "score         0.5     1.0    1.5     2.0     2.5     3.0     3.5      4.0  \\\n",
       "plataforma                                                                  \n",
       "amazon      68800  147144  70702  310974  222822  938794  558168  1246115   \n",
       "disney      10302   22236  10560   46878   33747  139911   83755   187198   \n",
       "hulu        21951   46823  22392   98356   70757  297513  177449   397510   \n",
       "netflix     62930  134182  63714  283323  202893  854858  509268  1137469   \n",
       "\n",
       "score          4.5     5.0  \n",
       "plataforma                  \n",
       "amazon      386422  677448  \n",
       "disney       58084  101521  \n",
       "hulu        122728  215911  \n",
       "netflix     351835  620382  "
      ]
     },
     "execution_count": 57,
     "metadata": {},
     "output_type": "execute_result"
    }
   ],
   "source": [
    "# Cross-Tabulation\n",
    "pd.crosstab(data['plataforma'], data['score'])"
   ]
  },
  {
   "attachments": {},
   "cell_type": "markdown",
   "metadata": {},
   "source": [
    "`Las plataformas con mayor puntuación de score=5 son netflix y amazon.`"
   ]
  },
  {
   "attachments": {},
   "cell_type": "markdown",
   "metadata": {},
   "source": [
    "7. **EXPORTAR DATA PARA MACHINE LEARNING**"
   ]
  },
  {
   "cell_type": "code",
   "execution_count": 8,
   "metadata": {},
   "outputs": [
    {
     "data": {
      "text/plain": [
       "(18191, 4)"
      ]
     },
     "execution_count": 8,
     "metadata": {},
     "output_type": "execute_result"
    }
   ],
   "source": [
    "# Preparamos el dataframe a exportar para machine learning\n",
    "columnas_a_exportar = ['userId', 'id', 'score','title']     # Listar columnas a exportar\n",
    "data_ml=data[columnas_a_exportar]                           # Creamos un dataframe solo con los datos a utilizar en machine learning\n",
    "duplicados_ml=data_ml[data_ml.duplicated()]                 # Examinamos duplicados\n",
    "duplicados_ml.shape                                         # Viualizamos la cantidad de duplicados"
   ]
  },
  {
   "cell_type": "code",
   "execution_count": 9,
   "metadata": {},
   "outputs": [],
   "source": [
    "# Exportamos el dataframe\n",
    "data_ml.to_csv('movies_etl_eda.csv', index=False)           # Exportar las columnas seleccionadas en archivo csv"
   ]
  }
 ],
 "metadata": {
  "kernelspec": {
   "display_name": "Python 3",
   "language": "python",
   "name": "python3"
  },
  "language_info": {
   "codemirror_mode": {
    "name": "ipython",
    "version": 3
   },
   "file_extension": ".py",
   "mimetype": "text/x-python",
   "name": "python",
   "nbconvert_exporter": "python",
   "pygments_lexer": "ipython3",
   "version": "3.10.7"
  },
  "orig_nbformat": 4,
  "vscode": {
   "interpreter": {
    "hash": "fb4569285eef3a3450cb62085a5b1e0da4bce0af555edc33dcf29baf3acc1368"
   }
  }
 },
 "nbformat": 4,
 "nbformat_minor": 2
}
